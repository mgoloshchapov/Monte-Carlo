{
 "cells": [
  {
   "cell_type": "code",
   "execution_count": 2,
   "id": "202ddd63-a698-4fa3-8de9-93861cf3e66c",
   "metadata": {},
   "outputs": [],
   "source": [
    "from ZAPS2 import *\n",
    "import numpy as np\n",
    "import matplotlib.pyplot as plt\n",
    "from numba import njit, prange\n",
    "from tqdm import tqdm"
   ]
  },
  {
   "cell_type": "code",
   "execution_count": 9,
   "id": "36ef63fc-6bbe-45ba-92f8-3b057a1f9730",
   "metadata": {},
   "outputs": [
    {
     "name": "stderr",
     "output_type": "stream",
     "text": [
      "  0%|                                                                                           | 0/10 [00:00<?, ?it/s]"
     ]
    },
    {
     "name": "stdout",
     "output_type": "stream",
     "text": [
      "Accept_prob = 1.0\n",
      "Accept_prob = 1.0\n",
      "Accept_prob = 1.0\n",
      "Accept_prob = 1.0\n",
      "Accept_prob = 1.0\n",
      "Accept_prob = 1.0\n",
      "Accept_prob = 1.0\n",
      "Accept_prob = 1.0\n",
      "Accept_prob = 1.0\n",
      "Accept_prob = 1.0\n"
     ]
    },
    {
     "name": "stderr",
     "output_type": "stream",
     "text": [
      " 10%|████████▎                                                                          | 1/10 [00:13<02:04, 13.87s/it]"
     ]
    },
    {
     "name": "stdout",
     "output_type": "stream",
     "text": [
      "Accept_prob = 0.5840666666666666\n",
      "Accept_prob = 0.5860117647058823\n",
      "Accept_prob = 0.5851411764705883\n",
      "Accept_prob = 0.5853529411764706\n",
      "Accept_prob = 0.5837705882352942\n",
      "Accept_prob = 0.5852725490196078\n",
      "Accept_prob = 0.5849098039215687\n",
      "Accept_prob = 0.5852490196078431\n",
      "Accept_prob = 0.5846725490196079\n",
      "Accept_prob = 0.586221568627451\n"
     ]
    },
    {
     "name": "stderr",
     "output_type": "stream",
     "text": [
      " 20%|████████████████▌                                                                  | 2/10 [00:27<01:50, 13.85s/it]"
     ]
    },
    {
     "name": "stdout",
     "output_type": "stream",
     "text": [
      "Accept_prob = 0.3000980392156863\n",
      "Accept_prob = 0.2989\n",
      "Accept_prob = 0.2995627450980392\n",
      "Accept_prob = 0.298921568627451\n",
      "Accept_prob = 0.2973\n",
      "Accept_prob = 0.29849019607843136\n",
      "Accept_prob = 0.29909411764705884\n",
      "Accept_prob = 0.29834509803921566\n",
      "Accept_prob = 0.3000745098039216\n",
      "Accept_prob = 0.2988\n"
     ]
    },
    {
     "name": "stderr",
     "output_type": "stream",
     "text": [
      " 30%|████████████████████████▉                                                          | 3/10 [00:41<01:35, 13.71s/it]"
     ]
    },
    {
     "name": "stdout",
     "output_type": "stream",
     "text": [
      "Accept_prob = 0.14387254901960783\n",
      "Accept_prob = 0.1437921568627451\n",
      "Accept_prob = 0.14406470588235293\n",
      "Accept_prob = 0.14355294117647058\n",
      "Accept_prob = 0.14344117647058824\n",
      "Accept_prob = 0.14353333333333335\n",
      "Accept_prob = 0.14341372549019607\n",
      "Accept_prob = 0.14351960784313725\n",
      "Accept_prob = 0.14466470588235295\n",
      "Accept_prob = 0.14359411764705882\n"
     ]
    },
    {
     "name": "stderr",
     "output_type": "stream",
     "text": [
      " 40%|█████████████████████████████████▏                                                 | 4/10 [00:47<01:04, 10.72s/it]"
     ]
    },
    {
     "name": "stdout",
     "output_type": "stream",
     "text": [
      "Accept_prob = 0.06871764705882354\n",
      "Accept_prob = 0.06843137254901961\n",
      "Accept_prob = 0.06828823529411765\n",
      "Accept_prob = 0.06983725490196079\n",
      "Accept_prob = 0.06818627450980393\n",
      "Accept_prob = 0.06894117647058824\n",
      "Accept_prob = 0.06897058823529412\n",
      "Accept_prob = 0.06789019607843137\n",
      "Accept_prob = 0.06841960784313726\n",
      "Accept_prob = 0.06883333333333333\n"
     ]
    },
    {
     "name": "stderr",
     "output_type": "stream",
     "text": [
      " 50%|█████████████████████████████████████████▌                                         | 5/10 [00:53<00:45,  9.03s/it]"
     ]
    },
    {
     "name": "stdout",
     "output_type": "stream",
     "text": [
      "Accept_prob = 0.03318627450980392\n",
      "Accept_prob = 0.034217647058823526\n",
      "Accept_prob = 0.03307843137254902\n",
      "Accept_prob = 0.034292156862745095\n",
      "Accept_prob = 0.03358823529411765\n",
      "Accept_prob = 0.033570588235294116\n",
      "Accept_prob = 0.03294901960784314\n",
      "Accept_prob = 0.03302156862745098\n",
      "Accept_prob = 0.03353137254901961\n",
      "Accept_prob = 0.03464705882352941\n"
     ]
    },
    {
     "name": "stderr",
     "output_type": "stream",
     "text": [
      " 60%|█████████████████████████████████████████████████▊                                 | 6/10 [00:59<00:32,  8.00s/it]"
     ]
    },
    {
     "name": "stdout",
     "output_type": "stream",
     "text": [
      "Accept_prob = 0.01716862745098039\n",
      "Accept_prob = 0.01686078431372549\n",
      "Accept_prob = 0.01720392156862745\n",
      "Accept_prob = 0.017170588235294118\n",
      "Accept_prob = 0.01758235294117647\n",
      "Accept_prob = 0.017001960784313725\n",
      "Accept_prob = 0.017050980392156863\n",
      "Accept_prob = 0.01706078431372549\n",
      "Accept_prob = 0.017294117647058824\n",
      "Accept_prob = 0.016949019607843136\n"
     ]
    },
    {
     "name": "stderr",
     "output_type": "stream",
     "text": [
      " 70%|██████████████████████████████████████████████████████████                         | 7/10 [01:05<00:22,  7.36s/it]"
     ]
    },
    {
     "name": "stdout",
     "output_type": "stream",
     "text": [
      "Accept_prob = 0.009376470588235293\n",
      "Accept_prob = 0.009490196078431372\n",
      "Accept_prob = 0.008935294117647059\n",
      "Accept_prob = 0.008890196078431372\n",
      "Accept_prob = 0.008929411764705882\n",
      "Accept_prob = 0.00935686274509804\n",
      "Accept_prob = 0.009650980392156863\n",
      "Accept_prob = 0.008927450980392156\n",
      "Accept_prob = 0.009313725490196078\n",
      "Accept_prob = 0.009427450980392157\n"
     ]
    },
    {
     "name": "stderr",
     "output_type": "stream",
     "text": [
      " 80%|██████████████████████████████████████████████████████████████████▍                | 8/10 [01:11<00:13,  6.95s/it]"
     ]
    },
    {
     "name": "stdout",
     "output_type": "stream",
     "text": [
      "Accept_prob = 0.00497843137254902\n",
      "Accept_prob = 0.005647058823529412\n",
      "Accept_prob = 0.005103921568627451\n",
      "Accept_prob = 0.005188235294117647\n",
      "Accept_prob = 0.004903921568627451\n",
      "Accept_prob = 0.005203921568627451\n",
      "Accept_prob = 0.005\n",
      "Accept_prob = 0.0052686274509803925\n",
      "Accept_prob = 0.005149019607843137\n",
      "Accept_prob = 0.005376470588235294\n"
     ]
    },
    {
     "name": "stderr",
     "output_type": "stream",
     "text": [
      " 90%|██████████████████████████████████████████████████████████████████████████▋        | 9/10 [01:17<00:06,  6.69s/it]"
     ]
    },
    {
     "name": "stdout",
     "output_type": "stream",
     "text": [
      "Accept_prob = 0.0028666666666666667\n",
      "Accept_prob = 0.003088235294117647\n",
      "Accept_prob = 0.0028803921568627453\n",
      "Accept_prob = 0.003268627450980392\n",
      "Accept_prob = 0.002927450980392157\n",
      "Accept_prob = 0.0032823529411764706\n",
      "Accept_prob = 0.0028980392156862747\n",
      "Accept_prob = 0.002903921568627451\n",
      "Accept_prob = 0.002876470588235294\n",
      "Accept_prob = 0.0029392156862745097\n"
     ]
    },
    {
     "name": "stderr",
     "output_type": "stream",
     "text": [
      "100%|██████████████████████████████████████████████████████████████████████████████████| 10/10 [01:23<00:00,  8.38s/it]\n"
     ]
    }
   ],
   "source": [
    "tau = np.linspace(0, 40, 40)\n",
    "de = np.linspace(0, 4, 10)\n",
    "gel = []\n",
    "for i in tqdm(de):\n",
    "    gel.append(Gelman_Rubin(30, i, 10))"
   ]
  },
  {
   "cell_type": "code",
   "execution_count": 10,
   "id": "f444fa8d-542d-4779-8517-86c5d9d5e899",
   "metadata": {},
   "outputs": [
    {
     "data": {
      "image/png": "[encoded data removed]",
      "text/plain": [
       "<Figure size 640x480 with 1 Axes>"
      ]
     },
     "metadata": {},
     "output_type": "display_data"
    }
   ],
   "source": [
    "gel = np.asarray(gel)\n",
    "plt.plot(de, gel-1)\n",
    "plt.semilogy()\n",
    "plt.show()"
   ]
  },
  {
   "cell_type": "code",
   "execution_count": 9,
   "id": "90559790-ac28-4d9a-957f-3a359fb89746",
   "metadata": {},
   "outputs": [],
   "source": [
    "def find_min(gel):\n",
    "    ingel = gel - 1\n",
    "    m = []\n",
    "    for i in range(len(ingel[0])):\n",
    "        m.append(sum(ingel[i]**2))\n",
    "    m = np.asarray(m)\n",
    "    inx = np.argmin(m)\n",
    "    return de[inx]"
   ]
  },
  {
   "cell_type": "code",
   "execution_count": 14,
   "id": "67922291-8c3d-422f-bc47-e2b56f932ea8",
   "metadata": {},
   "outputs": [
    {
     "data": {
      "text/plain": [
       "0.8888888888888888"
      ]
     },
     "execution_count": 14,
     "metadata": {},
     "output_type": "execute_result"
    }
   ],
   "source": [
    "find_min(gel)"
   ]
  },
  {
   "cell_type": "code",
   "execution_count": 15,
   "id": "11a64f41-2add-47e8-9f1d-0d518890c8e7",
   "metadata": {},
   "outputs": [
    {
     "name": "stderr",
     "output_type": "stream",
     "text": [
      "  0%|                                                                                           | 0/10 [00:00<?, ?it/s]"
     ]
    },
    {
     "name": "stdout",
     "output_type": "stream",
     "text": [
      "Accept_prob = 1.0\n",
      "Accept_prob = 1.0\n",
      "Accept_prob = 1.0\n",
      "Accept_prob = 1.0\n",
      "Accept_prob = 1.0\n",
      "Accept_prob = 1.0\n",
      "Accept_prob = 1.0\n",
      "Accept_prob = 1.0\n",
      "Accept_prob = 1.0\n",
      "Accept_prob = 1.0\n"
     ]
    },
    {
     "name": "stderr",
     "output_type": "stream",
     "text": [
      " 10%|████████▎                                                                          | 1/10 [00:06<00:54,  6.04s/it]"
     ]
    },
    {
     "name": "stdout",
     "output_type": "stream",
     "text": [
      "Accept_prob = 0.6155392156862745\n",
      "Accept_prob = 0.6156921568627451\n",
      "Accept_prob = 0.6168549019607843\n",
      "Accept_prob = 0.6154156862745098\n",
      "Accept_prob = 0.6156784313725491\n",
      "Accept_prob = 0.615764705882353\n",
      "Accept_prob = 0.6142490196078432\n",
      "Accept_prob = 0.6146666666666667\n",
      "Accept_prob = 0.6156803921568628\n",
      "Accept_prob = 0.6160372549019608\n"
     ]
    },
    {
     "name": "stderr",
     "output_type": "stream",
     "text": [
      " 20%|████████████████▌                                                                  | 2/10 [00:12<00:48,  6.08s/it]"
     ]
    },
    {
     "name": "stdout",
     "output_type": "stream",
     "text": [
      "Accept_prob = 0.33048823529411764\n",
      "Accept_prob = 0.33181372549019605\n",
      "Accept_prob = 0.3328235294117647\n",
      "Accept_prob = 0.3299078431372549\n",
      "Accept_prob = 0.3322333333333333\n",
      "Accept_prob = 0.33191176470588235\n",
      "Accept_prob = 0.3313843137254902\n",
      "Accept_prob = 0.33174313725490195\n",
      "Accept_prob = 0.3323607843137255\n",
      "Accept_prob = 0.33105098039215686\n"
     ]
    },
    {
     "name": "stderr",
     "output_type": "stream",
     "text": [
      " 30%|████████████████████████▉                                                          | 3/10 [00:18<00:42,  6.10s/it]"
     ]
    },
    {
     "name": "stdout",
     "output_type": "stream",
     "text": [
      "Accept_prob = 0.16524313725490197\n",
      "Accept_prob = 0.16555882352941176\n",
      "Accept_prob = 0.16667058823529413\n",
      "Accept_prob = 0.1656686274509804\n",
      "Accept_prob = 0.1658764705882353\n",
      "Accept_prob = 0.16518627450980392\n",
      "Accept_prob = 0.16505098039215688\n",
      "Accept_prob = 0.1653294117647059\n",
      "Accept_prob = 0.16551372549019608\n",
      "Accept_prob = 0.16701372549019608\n"
     ]
    },
    {
     "name": "stderr",
     "output_type": "stream",
     "text": [
      " 40%|█████████████████████████████████▏                                                 | 4/10 [00:24<00:36,  6.09s/it]"
     ]
    },
    {
     "name": "stdout",
     "output_type": "stream",
     "text": [
      "Accept_prob = 0.0811\n",
      "Accept_prob = 0.08140392156862745\n",
      "Accept_prob = 0.08080392156862745\n",
      "Accept_prob = 0.08147647058823529\n",
      "Accept_prob = 0.08190980392156863\n",
      "Accept_prob = 0.08075490196078432\n",
      "Accept_prob = 0.07990588235294117\n",
      "Accept_prob = 0.08175098039215686\n",
      "Accept_prob = 0.08087058823529411\n",
      "Accept_prob = 0.08047843137254902\n"
     ]
    },
    {
     "name": "stderr",
     "output_type": "stream",
     "text": [
      " 50%|█████████████████████████████████████████▌                                         | 5/10 [00:30<00:30,  6.09s/it]"
     ]
    },
    {
     "name": "stdout",
     "output_type": "stream",
     "text": [
      "Accept_prob = 0.04068823529411765\n",
      "Accept_prob = 0.03892549019607843\n",
      "Accept_prob = 0.03922549019607843\n",
      "Accept_prob = 0.04016078431372549\n",
      "Accept_prob = 0.041301960784313724\n",
      "Accept_prob = 0.04042549019607843\n",
      "Accept_prob = 0.040515686274509806\n",
      "Accept_prob = 0.039880392156862746\n",
      "Accept_prob = 0.04038627450980392\n",
      "Accept_prob = 0.04042941176470588\n"
     ]
    },
    {
     "name": "stderr",
     "output_type": "stream",
     "text": [
      " 60%|█████████████████████████████████████████████████▊                                 | 6/10 [00:36<00:24,  6.06s/it]"
     ]
    },
    {
     "name": "stdout",
     "output_type": "stream",
     "text": [
      "Accept_prob = 0.02083137254901961\n",
      "Accept_prob = 0.02062745098039216\n",
      "Accept_prob = 0.021264705882352943\n",
      "Accept_prob = 0.02044313725490196\n",
      "Accept_prob = 0.020874509803921568\n",
      "Accept_prob = 0.02013137254901961\n",
      "Accept_prob = 0.020541176470588236\n",
      "Accept_prob = 0.0198921568627451\n",
      "Accept_prob = 0.020245098039215686\n",
      "Accept_prob = 0.020654901960784313\n"
     ]
    },
    {
     "name": "stderr",
     "output_type": "stream",
     "text": [
      " 70%|██████████████████████████████████████████████████████████                         | 7/10 [00:42<00:18,  6.04s/it]"
     ]
    },
    {
     "name": "stdout",
     "output_type": "stream",
     "text": [
      "Accept_prob = 0.010864705882352941\n",
      "Accept_prob = 0.011341176470588235\n",
      "Accept_prob = 0.010788235294117647\n",
      "Accept_prob = 0.010849019607843137\n",
      "Accept_prob = 0.011390196078431373\n",
      "Accept_prob = 0.010637254901960784\n",
      "Accept_prob = 0.011107843137254903\n",
      "Accept_prob = 0.010976470588235294\n",
      "Accept_prob = 0.010798039215686275\n",
      "Accept_prob = 0.011023529411764706\n"
     ]
    },
    {
     "name": "stderr",
     "output_type": "stream",
     "text": [
      " 80%|██████████████████████████████████████████████████████████████████▍                | 8/10 [00:48<00:12,  6.03s/it]"
     ]
    },
    {
     "name": "stdout",
     "output_type": "stream",
     "text": [
      "Accept_prob = 0.006201960784313725\n",
      "Accept_prob = 0.006045098039215686\n",
      "Accept_prob = 0.006062745098039216\n",
      "Accept_prob = 0.00582156862745098\n",
      "Accept_prob = 0.005931372549019607\n",
      "Accept_prob = 0.005760784313725491\n",
      "Accept_prob = 0.006207843137254902\n",
      "Accept_prob = 0.006174509803921569\n",
      "Accept_prob = 0.006145098039215686\n",
      "Accept_prob = 0.005796078431372549\n"
     ]
    },
    {
     "name": "stderr",
     "output_type": "stream",
     "text": [
      " 90%|██████████████████████████████████████████████████████████████████████████▋        | 9/10 [00:54<00:06,  6.05s/it]"
     ]
    },
    {
     "name": "stdout",
     "output_type": "stream",
     "text": [
      "Accept_prob = 0.003358823529411765\n",
      "Accept_prob = 0.003907843137254902\n",
      "Accept_prob = 0.0036352941176470586\n",
      "Accept_prob = 0.003027450980392157\n",
      "Accept_prob = 0.0034509803921568627\n",
      "Accept_prob = 0.0037117647058823528\n",
      "Accept_prob = 0.0032901960784313725\n",
      "Accept_prob = 0.0037745098039215687\n",
      "Accept_prob = 0.0033686274509803923\n",
      "Accept_prob = 0.0035137254901960783\n"
     ]
    },
    {
     "name": "stderr",
     "output_type": "stream",
     "text": [
      "100%|██████████████████████████████████████████████████████████████████████████████████| 10/10 [01:00<00:00,  6.07s/it]\n"
     ]
    }
   ],
   "source": [
    "gel = []\n",
    "for i in tqdm(de):\n",
    "    gel.append(Gelman_Rubin(30, i, 100))"
   ]
  },
  {
   "cell_type": "code",
   "execution_count": 16,
   "id": "f1b6930d-dcbe-4fd0-b3a9-a6fd55b05f30",
   "metadata": {},
   "outputs": [
    {
     "data": {
      "image/png": "[encoded data removed]",
      "text/plain": [
       "<Figure size 640x480 with 1 Axes>"
      ]
     },
     "metadata": {},
     "output_type": "display_data"
    }
   ],
   "source": [
    "gel = np.asarray(gel)\n",
    "plt.plot(de, gel-1)\n",
    "plt.semilogy()\n",
    "plt.show()"
   ]
  },
  {
   "cell_type": "code",
   "execution_count": 17,
   "id": "6e17a23d-ca2b-4ba4-9d8f-3792f94e707e",
   "metadata": {},
   "outputs": [
    {
     "data": {
      "text/plain": [
       "1.3333333333333333"
      ]
     },
     "execution_count": 17,
     "metadata": {},
     "output_type": "execute_result"
    }
   ],
   "source": [
    "find_min(gel)"
   ]
  },
  {
   "cell_type": "code",
   "execution_count": 18,
   "id": "b13738d5-5ed4-432e-91d3-6afe18602f0c",
   "metadata": {},
   "outputs": [
    {
     "name": "stderr",
     "output_type": "stream",
     "text": [
      "  0%|                                                                                           | 0/10 [00:00<?, ?it/s]"
     ]
    },
    {
     "name": "stdout",
     "output_type": "stream",
     "text": [
      "Accept_prob = 1.0\n",
      "Accept_prob = 1.0\n",
      "Accept_prob = 1.0\n",
      "Accept_prob = 1.0\n",
      "Accept_prob = 1.0\n",
      "Accept_prob = 1.0\n",
      "Accept_prob = 1.0\n",
      "Accept_prob = 1.0\n",
      "Accept_prob = 1.0\n",
      "Accept_prob = 1.0\n"
     ]
    },
    {
     "name": "stderr",
     "output_type": "stream",
     "text": [
      " 10%|████████▎                                                                          | 1/10 [00:06<01:00,  6.70s/it]"
     ]
    },
    {
     "name": "stdout",
     "output_type": "stream",
     "text": [
      "Accept_prob = 0.6176666666666667\n",
      "Accept_prob = 0.6180117647058824\n",
      "Accept_prob = 0.6187333333333334\n",
      "Accept_prob = 0.6205686274509804\n",
      "Accept_prob = 0.6188294117647059\n",
      "Accept_prob = 0.6193843137254902\n",
      "Accept_prob = 0.6193941176470589\n",
      "Accept_prob = 0.6172980392156863\n",
      "Accept_prob = 0.6176176470588235\n",
      "Accept_prob = 0.6180254901960784\n"
     ]
    },
    {
     "name": "stderr",
     "output_type": "stream",
     "text": [
      " 20%|████████████████▌                                                                  | 2/10 [00:12<00:50,  6.32s/it]"
     ]
    },
    {
     "name": "stdout",
     "output_type": "stream",
     "text": [
      "Accept_prob = 0.33527254901960785\n",
      "Accept_prob = 0.3346156862745098\n",
      "Accept_prob = 0.3350666666666667\n",
      "Accept_prob = 0.3359627450980392\n",
      "Accept_prob = 0.33468039215686274\n",
      "Accept_prob = 0.3343764705882353\n",
      "Accept_prob = 0.3336372549019608\n",
      "Accept_prob = 0.3355392156862745\n",
      "Accept_prob = 0.3355529411764706\n",
      "Accept_prob = 0.3354019607843137\n"
     ]
    },
    {
     "name": "stderr",
     "output_type": "stream",
     "text": [
      " 30%|████████████████████████▉                                                          | 3/10 [00:18<00:43,  6.18s/it]"
     ]
    },
    {
     "name": "stdout",
     "output_type": "stream",
     "text": [
      "Accept_prob = 0.1685941176470588\n",
      "Accept_prob = 0.1682137254901961\n",
      "Accept_prob = 0.16850588235294117\n",
      "Accept_prob = 0.1678764705882353\n",
      "Accept_prob = 0.16892156862745097\n",
      "Accept_prob = 0.16778039215686275\n",
      "Accept_prob = 0.16856078431372548\n",
      "Accept_prob = 0.16738627450980392\n",
      "Accept_prob = 0.16760196078431372\n",
      "Accept_prob = 0.1676764705882353\n"
     ]
    },
    {
     "name": "stderr",
     "output_type": "stream",
     "text": [
      " 40%|█████████████████████████████████▏                                                 | 4/10 [00:24<00:36,  6.12s/it]"
     ]
    },
    {
     "name": "stdout",
     "output_type": "stream",
     "text": [
      "Accept_prob = 0.08193333333333333\n",
      "Accept_prob = 0.08360588235294118\n",
      "Accept_prob = 0.08123921568627451\n",
      "Accept_prob = 0.0836\n",
      "Accept_prob = 0.08230392156862745\n",
      "Accept_prob = 0.08278039215686274\n",
      "Accept_prob = 0.08261764705882353\n",
      "Accept_prob = 0.08288823529411765\n",
      "Accept_prob = 0.08308823529411764\n",
      "Accept_prob = 0.08293725490196079\n"
     ]
    },
    {
     "name": "stderr",
     "output_type": "stream",
     "text": [
      " 50%|█████████████████████████████████████████▌                                         | 5/10 [00:30<00:30,  6.09s/it]"
     ]
    },
    {
     "name": "stdout",
     "output_type": "stream",
     "text": [
      "Accept_prob = 0.04066470588235294\n",
      "Accept_prob = 0.04113137254901961\n",
      "Accept_prob = 0.04095294117647059\n",
      "Accept_prob = 0.04071372549019608\n",
      "Accept_prob = 0.040705882352941175\n",
      "Accept_prob = 0.04097058823529412\n",
      "Accept_prob = 0.0406921568627451\n",
      "Accept_prob = 0.0411078431372549\n",
      "Accept_prob = 0.04155490196078431\n",
      "Accept_prob = 0.04055686274509804\n"
     ]
    },
    {
     "name": "stderr",
     "output_type": "stream",
     "text": [
      " 60%|█████████████████████████████████████████████████▊                                 | 6/10 [00:36<00:24,  6.07s/it]"
     ]
    },
    {
     "name": "stdout",
     "output_type": "stream",
     "text": [
      "Accept_prob = 0.020562745098039216\n",
      "Accept_prob = 0.021276470588235293\n",
      "Accept_prob = 0.020205882352941178\n",
      "Accept_prob = 0.021094117647058822\n",
      "Accept_prob = 0.021927450980392157\n",
      "Accept_prob = 0.02053921568627451\n",
      "Accept_prob = 0.02161372549019608\n",
      "Accept_prob = 0.020774509803921568\n",
      "Accept_prob = 0.020601960784313724\n",
      "Accept_prob = 0.0202\n"
     ]
    },
    {
     "name": "stderr",
     "output_type": "stream",
     "text": [
      " 70%|██████████████████████████████████████████████████████████                         | 7/10 [00:42<00:18,  6.04s/it]"
     ]
    },
    {
     "name": "stdout",
     "output_type": "stream",
     "text": [
      "Accept_prob = 0.010833333333333334\n",
      "Accept_prob = 0.01083529411764706\n",
      "Accept_prob = 0.010531372549019608\n",
      "Accept_prob = 0.01122156862745098\n",
      "Accept_prob = 0.011166666666666667\n",
      "Accept_prob = 0.011262745098039215\n",
      "Accept_prob = 0.010866666666666667\n",
      "Accept_prob = 0.010666666666666666\n",
      "Accept_prob = 0.01134313725490196\n",
      "Accept_prob = 0.011319607843137255\n"
     ]
    },
    {
     "name": "stderr",
     "output_type": "stream",
     "text": [
      " 80%|██████████████████████████████████████████████████████████████████▍                | 8/10 [00:48<00:12,  6.05s/it]"
     ]
    },
    {
     "name": "stdout",
     "output_type": "stream",
     "text": [
      "Accept_prob = 0.006058823529411765\n",
      "Accept_prob = 0.005862745098039216\n",
      "Accept_prob = 0.005964705882352941\n",
      "Accept_prob = 0.0061\n",
      "Accept_prob = 0.006201960784313725\n",
      "Accept_prob = 0.0063509803921568625\n",
      "Accept_prob = 0.0062784313725490195\n",
      "Accept_prob = 0.006101960784313725\n",
      "Accept_prob = 0.0056450980392156866\n",
      "Accept_prob = 0.006384313725490196\n"
     ]
    },
    {
     "name": "stderr",
     "output_type": "stream",
     "text": [
      " 90%|██████████████████████████████████████████████████████████████████████████▋        | 9/10 [00:55<00:06,  6.11s/it]"
     ]
    },
    {
     "name": "stdout",
     "output_type": "stream",
     "text": [
      "Accept_prob = 0.0037705882352941176\n",
      "Accept_prob = 0.003415686274509804\n",
      "Accept_prob = 0.0034058823529411766\n",
      "Accept_prob = 0.0033470588235294117\n",
      "Accept_prob = 0.0033784313725490197\n",
      "Accept_prob = 0.003449019607843137\n",
      "Accept_prob = 0.003870588235294118\n",
      "Accept_prob = 0.003650980392156863\n",
      "Accept_prob = 0.003688235294117647\n",
      "Accept_prob = 0.0037509803921568627\n"
     ]
    },
    {
     "name": "stderr",
     "output_type": "stream",
     "text": [
      "100%|██████████████████████████████████████████████████████████████████████████████████| 10/10 [01:01<00:00,  6.11s/it]\n"
     ]
    }
   ],
   "source": [
    "gel = []\n",
    "for i in tqdm(de):\n",
    "    gel.append(Gelman_Rubin(30, i, 1e5))"
   ]
  },
  {
   "cell_type": "code",
   "execution_count": 19,
   "id": "d5abfa32-2936-43fc-878a-b012a007e806",
   "metadata": {},
   "outputs": [
    {
     "data": {
      "image/png": "[encoded data removed]",
      "text/plain": [
       "<Figure size 640x480 with 1 Axes>"
      ]
     },
     "metadata": {},
     "output_type": "display_data"
    }
   ],
   "source": [
    "gel = np.asarray(gel)\n",
    "plt.plot(de, gel-1)\n",
    "plt.semilogy()\n",
    "plt.show()"
   ]
  },
  {
   "cell_type": "code",
   "execution_count": 20,
   "id": "54aae5bf-2849-4923-b0e4-cbf4e699a202",
   "metadata": {},
   "outputs": [
    {
     "name": "stderr",
     "output_type": "stream",
     "text": [
      "  0%|                                                                                           | 0/10 [00:00<?, ?it/s]"
     ]
    },
    {
     "name": "stdout",
     "output_type": "stream",
     "text": [
      "Accept_prob = 1.0\n",
      "Accept_prob = 1.0\n",
      "Accept_prob = 1.0\n",
      "Accept_prob = 1.0\n",
      "Accept_prob = 1.0\n",
      "Accept_prob = 1.0\n",
      "Accept_prob = 1.0\n",
      "Accept_prob = 1.0\n",
      "Accept_prob = 1.0\n",
      "Accept_prob = 1.0\n"
     ]
    },
    {
     "name": "stderr",
     "output_type": "stream",
     "text": [
      " 10%|████████▎                                                                          | 1/10 [00:06<00:54,  6.05s/it]"
     ]
    },
    {
     "name": "stdout",
     "output_type": "stream",
     "text": [
      "Accept_prob = 0.7247411764705882\n",
      "Accept_prob = 0.7252764705882353\n",
      "Accept_prob = 0.7248764705882353\n",
      "Accept_prob = 0.7250549019607843\n",
      "Accept_prob = 0.7243803921568628\n",
      "Accept_prob = 0.7262450980392157\n",
      "Accept_prob = 0.7234156862745098\n",
      "Accept_prob = 0.7250039215686275\n",
      "Accept_prob = 0.723378431372549\n",
      "Accept_prob = 0.7206235294117647\n"
     ]
    },
    {
     "name": "stderr",
     "output_type": "stream",
     "text": [
      " 20%|████████████████▌                                                                  | 2/10 [00:12<00:47,  6.00s/it]"
     ]
    },
    {
     "name": "stdout",
     "output_type": "stream",
     "text": [
      "Accept_prob = 0.4962156862745098\n",
      "Accept_prob = 0.49670392156862747\n",
      "Accept_prob = 0.49592156862745096\n",
      "Accept_prob = 0.49638627450980394\n",
      "Accept_prob = 0.49718039215686277\n",
      "Accept_prob = 0.4976764705882353\n",
      "Accept_prob = 0.496278431372549\n",
      "Accept_prob = 0.49578823529411764\n",
      "Accept_prob = 0.4963078431372549\n",
      "Accept_prob = 0.49761176470588236\n"
     ]
    },
    {
     "name": "stderr",
     "output_type": "stream",
     "text": [
      " 30%|████████████████████████▉                                                          | 3/10 [00:18<00:42,  6.00s/it]"
     ]
    },
    {
     "name": "stdout",
     "output_type": "stream",
     "text": [
      "Accept_prob = 0.3308450980392157\n",
      "Accept_prob = 0.33121176470588237\n",
      "Accept_prob = 0.33084313725490194\n",
      "Accept_prob = 0.33256470588235293\n",
      "Accept_prob = 0.33201176470588234\n",
      "Accept_prob = 0.3309764705882353\n",
      "Accept_prob = 0.33123529411764707\n",
      "Accept_prob = 0.33106274509803924\n",
      "Accept_prob = 0.33181960784313724\n",
      "Accept_prob = 0.33208823529411763\n"
     ]
    },
    {
     "name": "stderr",
     "output_type": "stream",
     "text": [
      " 40%|█████████████████████████████████▏                                                 | 4/10 [00:24<00:36,  6.00s/it]"
     ]
    },
    {
     "name": "stdout",
     "output_type": "stream",
     "text": [
      "Accept_prob = 0.22110588235294118\n",
      "Accept_prob = 0.2202294117647059\n",
      "Accept_prob = 0.22134509803921568\n",
      "Accept_prob = 0.22027450980392158\n",
      "Accept_prob = 0.22152549019607842\n",
      "Accept_prob = 0.22238627450980392\n",
      "Accept_prob = 0.22156470588235294\n",
      "Accept_prob = 0.21984901960784314\n",
      "Accept_prob = 0.22053725490196077\n",
      "Accept_prob = 0.22112941176470588\n"
     ]
    },
    {
     "name": "stderr",
     "output_type": "stream",
     "text": [
      " 50%|█████████████████████████████████████████▌                                         | 5/10 [00:30<00:30,  6.01s/it]"
     ]
    },
    {
     "name": "stdout",
     "output_type": "stream",
     "text": [
      "Accept_prob = 0.14880980392156862\n",
      "Accept_prob = 0.14914901960784313\n",
      "Accept_prob = 0.1490372549019608\n",
      "Accept_prob = 0.1499843137254902\n",
      "Accept_prob = 0.1486450980392157\n",
      "Accept_prob = 0.1505156862745098\n",
      "Accept_prob = 0.1485686274509804\n",
      "Accept_prob = 0.1503686274509804\n",
      "Accept_prob = 0.1491941176470588\n",
      "Accept_prob = 0.15063333333333334\n"
     ]
    },
    {
     "name": "stderr",
     "output_type": "stream",
     "text": [
      " 60%|█████████████████████████████████████████████████▊                                 | 6/10 [00:36<00:23,  5.99s/it]"
     ]
    },
    {
     "name": "stdout",
     "output_type": "stream",
     "text": [
      "Accept_prob = 0.10402941176470588\n",
      "Accept_prob = 0.10420392156862746\n",
      "Accept_prob = 0.10431372549019607\n",
      "Accept_prob = 0.10318039215686274\n",
      "Accept_prob = 0.10472941176470588\n",
      "Accept_prob = 0.1051235294117647\n",
      "Accept_prob = 0.10456666666666667\n",
      "Accept_prob = 0.10491176470588236\n",
      "Accept_prob = 0.10405294117647058\n",
      "Accept_prob = 0.10337647058823529\n"
     ]
    },
    {
     "name": "stderr",
     "output_type": "stream",
     "text": [
      " 70%|██████████████████████████████████████████████████████████                         | 7/10 [00:41<00:17,  5.99s/it]"
     ]
    },
    {
     "name": "stdout",
     "output_type": "stream",
     "text": [
      "Accept_prob = 0.07396666666666667\n",
      "Accept_prob = 0.07364705882352941\n",
      "Accept_prob = 0.07281764705882353\n",
      "Accept_prob = 0.07332549019607842\n",
      "Accept_prob = 0.07448235294117647\n",
      "Accept_prob = 0.07460196078431372\n",
      "Accept_prob = 0.07236078431372549\n",
      "Accept_prob = 0.07469803921568627\n",
      "Accept_prob = 0.07361764705882352\n",
      "Accept_prob = 0.07355490196078432\n"
     ]
    },
    {
     "name": "stderr",
     "output_type": "stream",
     "text": [
      " 80%|██████████████████████████████████████████████████████████████████▍                | 8/10 [00:48<00:12,  6.01s/it]"
     ]
    },
    {
     "name": "stdout",
     "output_type": "stream",
     "text": [
      "Accept_prob = 0.05252745098039216\n",
      "Accept_prob = 0.053376470588235296\n",
      "Accept_prob = 0.054162745098039214\n",
      "Accept_prob = 0.05421960784313726\n",
      "Accept_prob = 0.05354901960784314\n",
      "Accept_prob = 0.05287254901960784\n",
      "Accept_prob = 0.05454313725490196\n",
      "Accept_prob = 0.05329607843137255\n",
      "Accept_prob = 0.05434117647058823\n",
      "Accept_prob = 0.05328039215686275\n"
     ]
    },
    {
     "name": "stderr",
     "output_type": "stream",
     "text": [
      " 90%|██████████████████████████████████████████████████████████████████████████▋        | 9/10 [00:54<00:06,  6.05s/it]"
     ]
    },
    {
     "name": "stdout",
     "output_type": "stream",
     "text": [
      "Accept_prob = 0.0406\n",
      "Accept_prob = 0.040307843137254905\n",
      "Accept_prob = 0.040194117647058825\n",
      "Accept_prob = 0.04007843137254902\n",
      "Accept_prob = 0.039911764705882355\n",
      "Accept_prob = 0.04018039215686275\n",
      "Accept_prob = 0.040256862745098036\n",
      "Accept_prob = 0.04105686274509804\n",
      "Accept_prob = 0.04032156862745098\n",
      "Accept_prob = 0.040049019607843135\n"
     ]
    },
    {
     "name": "stderr",
     "output_type": "stream",
     "text": [
      "100%|██████████████████████████████████████████████████████████████████████████████████| 10/10 [01:00<00:00,  6.04s/it]\n"
     ]
    }
   ],
   "source": [
    "gel = []\n",
    "for i in tqdm(de):\n",
    "    gel.append(Gelman_Rubin(90, i, 1e5))"
   ]
  },
  {
   "cell_type": "code",
   "execution_count": 24,
   "id": "8289ebca-ae40-452e-adfe-9cc73b5b29df",
   "metadata": {},
   "outputs": [
    {
     "name": "stdout",
     "output_type": "stream",
     "text": [
      "[[8.78280023e+30 5.02733693e+30 7.39668379e+30 4.52639043e+30\n",
      "  2.98175233e+30 2.97647716e+30]\n",
      " [3.77885832e+00 2.73678762e+00 2.00071897e+00 1.00015103e+00\n",
      "  1.00001197e+00 1.00006759e+00]\n",
      " [2.53420849e+00 3.56051351e+00 2.32539546e+00 1.00000965e+00\n",
      "  1.00004041e+00 1.00003024e+00]\n",
      " [2.40855921e+00 2.48863782e+00 3.33314824e+00 1.00003711e+00\n",
      "  1.00000704e+00 1.00000429e+00]\n",
      " [3.39846440e+00 1.97487271e+00 2.83817666e+00 1.00001293e+00\n",
      "  1.00002240e+00 1.00002663e+00]\n",
      " [3.22338054e+00 3.17796672e+00 2.61658547e+00 1.00003002e+00\n",
      "  1.00001043e+00 1.00005095e+00]\n",
      " [2.97237780e+00 5.10313952e+00 2.18328945e+00 1.00001621e+00\n",
      "  1.00001886e+00 1.00002996e+00]\n",
      " [2.90589946e+00 2.04524886e+00 3.92154291e+00 1.00002640e+00\n",
      "  1.00002270e+00 1.00006415e+00]\n",
      " [2.20725988e+00 2.33289137e+00 1.84672522e+00 1.00012772e+00\n",
      "  1.00005671e+00 1.00004669e+00]\n",
      " [3.58623959e+00 2.55131062e+00 3.12326844e+00 1.00009607e+00\n",
      "  1.00010940e+00 1.00007577e+00]]\n"
     ]
    },
    {
     "data": {
      "image/png": "[encoded data removed]",
      "text/plain": [
       "<Figure size 640x480 with 1 Axes>"
      ]
     },
     "metadata": {},
     "output_type": "display_data"
    }
   ],
   "source": [
    "gel = np.asarray(gel)\n",
    "print(gel)\n",
    "plt.plot(de, gel-1)\n",
    "plt.semilogy()\n",
    "plt.show()"
   ]
  },
  {
   "cell_type": "code",
   "execution_count": 25,
   "id": "cbd969c9-fa4a-4af1-bf2b-8f35c19d33df",
   "metadata": {},
   "outputs": [
    {
     "name": "stderr",
     "output_type": "stream",
     "text": [
      "  0%|                                                                                           | 0/10 [00:00<?, ?it/s]"
     ]
    },
    {
     "name": "stdout",
     "output_type": "stream",
     "text": [
      "Accept_prob = 1.0\n",
      "Accept_prob = 1.0\n",
      "Accept_prob = 1.0\n",
      "Accept_prob = 1.0\n",
      "Accept_prob = 1.0\n",
      "Accept_prob = 1.0\n",
      "Accept_prob = 1.0\n",
      "Accept_prob = 1.0\n",
      "Accept_prob = 1.0\n",
      "Accept_prob = 1.0\n"
     ]
    },
    {
     "name": "stderr",
     "output_type": "stream",
     "text": [
      " 10%|████████▎                                                                          | 1/10 [00:05<00:53,  5.94s/it]"
     ]
    },
    {
     "name": "stdout",
     "output_type": "stream",
     "text": [
      "Accept_prob = 0.7247843137254902\n",
      "Accept_prob = 0.7262549019607843\n",
      "Accept_prob = 0.7260254901960784\n",
      "Accept_prob = 0.7251666666666666\n",
      "Accept_prob = 0.7236470588235294\n",
      "Accept_prob = 0.7259823529411765\n",
      "Accept_prob = 0.7251823529411765\n",
      "Accept_prob = 0.7258803921568627\n",
      "Accept_prob = 0.7253588235294117\n",
      "Accept_prob = 0.7245803921568628\n"
     ]
    },
    {
     "name": "stderr",
     "output_type": "stream",
     "text": [
      " 20%|████████████████▌                                                                  | 2/10 [00:11<00:47,  5.97s/it]"
     ]
    },
    {
     "name": "stdout",
     "output_type": "stream",
     "text": [
      "Accept_prob = 0.4965686274509804\n",
      "Accept_prob = 0.4971843137254902\n",
      "Accept_prob = 0.495878431372549\n",
      "Accept_prob = 0.4965686274509804\n",
      "Accept_prob = 0.49805686274509803\n",
      "Accept_prob = 0.4975686274509804\n",
      "Accept_prob = 0.49606470588235296\n",
      "Accept_prob = 0.49706666666666666\n",
      "Accept_prob = 0.4981549019607843\n",
      "Accept_prob = 0.4957627450980392\n"
     ]
    },
    {
     "name": "stderr",
     "output_type": "stream",
     "text": [
      " 30%|████████████████████████▉                                                          | 3/10 [00:17<00:41,  5.96s/it]"
     ]
    },
    {
     "name": "stdout",
     "output_type": "stream",
     "text": [
      "Accept_prob = 0.33215686274509804\n",
      "Accept_prob = 0.33154117647058823\n",
      "Accept_prob = 0.33253921568627454\n",
      "Accept_prob = 0.3309235294117647\n",
      "Accept_prob = 0.33242352941176473\n",
      "Accept_prob = 0.3319960784313726\n",
      "Accept_prob = 0.3304450980392157\n",
      "Accept_prob = 0.3323470588235294\n",
      "Accept_prob = 0.331756862745098\n",
      "Accept_prob = 0.3319843137254902\n"
     ]
    },
    {
     "name": "stderr",
     "output_type": "stream",
     "text": [
      " 40%|█████████████████████████████████▏                                                 | 4/10 [00:23<00:35,  5.99s/it]"
     ]
    },
    {
     "name": "stdout",
     "output_type": "stream",
     "text": [
      "Accept_prob = 0.2214078431372549\n",
      "Accept_prob = 0.2225078431372549\n",
      "Accept_prob = 0.2206078431372549\n",
      "Accept_prob = 0.22081960784313726\n",
      "Accept_prob = 0.2212392156862745\n",
      "Accept_prob = 0.22258235294117648\n",
      "Accept_prob = 0.22016666666666668\n",
      "Accept_prob = 0.22134901960784314\n",
      "Accept_prob = 0.22150980392156863\n",
      "Accept_prob = 0.2211\n"
     ]
    },
    {
     "name": "stderr",
     "output_type": "stream",
     "text": [
      " 50%|█████████████████████████████████████████▌                                         | 5/10 [00:29<00:29,  5.98s/it]"
     ]
    },
    {
     "name": "stdout",
     "output_type": "stream",
     "text": [
      "Accept_prob = 0.14928235294117648\n",
      "Accept_prob = 0.14974509803921568\n",
      "Accept_prob = 0.14876470588235294\n",
      "Accept_prob = 0.15087058823529412\n",
      "Accept_prob = 0.15019803921568628\n",
      "Accept_prob = 0.14948627450980392\n",
      "Accept_prob = 0.15023921568627452\n",
      "Accept_prob = 0.15023725490196077\n",
      "Accept_prob = 0.1503843137254902\n",
      "Accept_prob = 0.15023921568627452\n"
     ]
    },
    {
     "name": "stderr",
     "output_type": "stream",
     "text": [
      " 60%|█████████████████████████████████████████████████▊                                 | 6/10 [00:35<00:23,  5.99s/it]"
     ]
    },
    {
     "name": "stdout",
     "output_type": "stream",
     "text": [
      "Accept_prob = 0.10403725490196078\n",
      "Accept_prob = 0.10377843137254902\n",
      "Accept_prob = 0.10458235294117647\n",
      "Accept_prob = 0.10326666666666667\n",
      "Accept_prob = 0.10405490196078432\n",
      "Accept_prob = 0.1045078431372549\n",
      "Accept_prob = 0.10450392156862745\n",
      "Accept_prob = 0.10375882352941176\n",
      "Accept_prob = 0.10449607843137255\n",
      "Accept_prob = 0.10473529411764707\n"
     ]
    },
    {
     "name": "stderr",
     "output_type": "stream",
     "text": [
      " 70%|██████████████████████████████████████████████████████████                         | 7/10 [00:41<00:17,  5.99s/it]"
     ]
    },
    {
     "name": "stdout",
     "output_type": "stream",
     "text": [
      "Accept_prob = 0.07442352941176471\n",
      "Accept_prob = 0.07434117647058823\n",
      "Accept_prob = 0.07418235294117648\n",
      "Accept_prob = 0.07432156862745098\n",
      "Accept_prob = 0.07431568627450981\n",
      "Accept_prob = 0.07437254901960784\n",
      "Accept_prob = 0.07362549019607843\n",
      "Accept_prob = 0.07412941176470589\n",
      "Accept_prob = 0.07411176470588235\n",
      "Accept_prob = 0.07419411764705883\n"
     ]
    },
    {
     "name": "stderr",
     "output_type": "stream",
     "text": [
      " 80%|██████████████████████████████████████████████████████████████████▍                | 8/10 [00:48<00:12,  6.04s/it]"
     ]
    },
    {
     "name": "stdout",
     "output_type": "stream",
     "text": [
      "Accept_prob = 0.0539\n",
      "Accept_prob = 0.05440588235294118\n",
      "Accept_prob = 0.05404901960784314\n",
      "Accept_prob = 0.05411764705882353\n",
      "Accept_prob = 0.054923529411764704\n",
      "Accept_prob = 0.05364509803921569\n",
      "Accept_prob = 0.0545921568627451\n",
      "Accept_prob = 0.05386274509803921\n",
      "Accept_prob = 0.05380980392156863\n",
      "Accept_prob = 0.053849019607843135\n"
     ]
    },
    {
     "name": "stderr",
     "output_type": "stream",
     "text": [
      " 90%|██████████████████████████████████████████████████████████████████████████▋        | 9/10 [00:54<00:06,  6.04s/it]"
     ]
    },
    {
     "name": "stdout",
     "output_type": "stream",
     "text": [
      "Accept_prob = 0.039711764705882356\n",
      "Accept_prob = 0.04063725490196078\n",
      "Accept_prob = 0.040611764705882354\n",
      "Accept_prob = 0.04064705882352941\n",
      "Accept_prob = 0.0403235294117647\n",
      "Accept_prob = 0.03986666666666667\n",
      "Accept_prob = 0.04026862745098039\n",
      "Accept_prob = 0.04055294117647059\n",
      "Accept_prob = 0.040754901960784316\n",
      "Accept_prob = 0.04048235294117647\n"
     ]
    },
    {
     "name": "stderr",
     "output_type": "stream",
     "text": [
      "100%|██████████████████████████████████████████████████████████████████████████████████| 10/10 [01:00<00:00,  6.03s/it]\n"
     ]
    }
   ],
   "source": [
    "gel = []\n",
    "for i in tqdm(de):\n",
    "    gel.append(Gelman_Rubin(140, i, 1e3))"
   ]
  },
  {
   "cell_type": "code",
   "execution_count": 26,
   "id": "e231e202-2ba9-44c8-884c-a6f84cf40c2e",
   "metadata": {},
   "outputs": [
    {
     "name": "stdout",
     "output_type": "stream",
     "text": [
      "[[9.64627537e+30 2.65491911e+30 5.89063965e+30 3.96348070e+30\n",
      "  1.93691375e+31 4.99218587e+30]\n",
      " [3.49785345e+00 4.38478173e+00 2.90913141e+00 1.00005529e+00\n",
      "  1.00004205e+00 1.00015884e+00]\n",
      " [4.03035296e+00 2.82282931e+00 4.00439896e+00 1.00004040e+00\n",
      "  1.00001953e+00 1.00003509e+00]\n",
      " [3.00084737e+00 3.26505216e+00 2.71124807e+00 1.00001810e+00\n",
      "  1.00001658e+00 1.00001795e+00]\n",
      " [3.34710553e+00 1.71969717e+00 2.74857019e+00 1.00001170e+00\n",
      "  1.00000875e+00 1.00002676e+00]\n",
      " [3.54555638e+00 4.60955222e+00 2.00017766e+00 1.00001774e+00\n",
      "  1.00003190e+00 1.00001564e+00]\n",
      " [3.30116053e+00 3.27587900e+00 1.99975452e+00 1.00003942e+00\n",
      "  1.00004473e+00 1.00006741e+00]\n",
      " [2.74711749e+00 3.82251925e+00 3.11798679e+00 1.00004760e+00\n",
      "  1.00003892e+00 1.00005800e+00]\n",
      " [2.78682923e+00 4.27545507e+00 2.94018672e+00 1.00009086e+00\n",
      "  1.00003625e+00 1.00006098e+00]\n",
      " [3.26003911e+00 3.25615246e+00 3.66380464e+00 1.00014098e+00\n",
      "  1.00006704e+00 1.00011924e+00]]\n"
     ]
    },
    {
     "data": {
      "image/png": "[encoded data removed]",
      "text/plain": [
       "<Figure size 640x480 with 1 Axes>"
      ]
     },
     "metadata": {},
     "output_type": "display_data"
    }
   ],
   "source": [
    "gel = np.asarray(gel)\n",
    "print(gel)\n",
    "plt.plot(de, gel-1)\n",
    "plt.semilogy()\n",
    "plt.show()"
   ]
  },
  {
   "cell_type": "code",
   "execution_count": 27,
   "id": "ef6344ea-dec0-4c46-a1c3-f8a0528c6224",
   "metadata": {},
   "outputs": [
    {
     "name": "stderr",
     "output_type": "stream",
     "text": [
      "  0%|                                                                                           | 0/10 [00:00<?, ?it/s]"
     ]
    },
    {
     "name": "stdout",
     "output_type": "stream",
     "text": [
      "Accept_prob = 1.0\n",
      "Accept_prob = 1.0\n",
      "Accept_prob = 1.0\n",
      "Accept_prob = 1.0\n",
      "Accept_prob = 1.0\n",
      "Accept_prob = 1.0\n",
      "Accept_prob = 1.0\n",
      "Accept_prob = 1.0\n",
      "Accept_prob = 1.0\n",
      "Accept_prob = 1.0\n"
     ]
    },
    {
     "name": "stderr",
     "output_type": "stream",
     "text": [
      " 10%|████████▎                                                                          | 1/10 [00:06<00:54,  6.01s/it]"
     ]
    },
    {
     "name": "stdout",
     "output_type": "stream",
     "text": [
      "Accept_prob = 0.002345098039215686\n",
      "Accept_prob = 0.002292156862745098\n",
      "Accept_prob = 0.002223529411764706\n",
      "Accept_prob = 0.002388235294117647\n",
      "Accept_prob = 0.0024666666666666665\n",
      "Accept_prob = 0.002241176470588235\n",
      "Accept_prob = 0.0021980392156862746\n",
      "Accept_prob = 0.002268627450980392\n",
      "Accept_prob = 0.0025627450980392156\n",
      "Accept_prob = 0.0024215686274509803\n"
     ]
    },
    {
     "name": "stderr",
     "output_type": "stream",
     "text": [
      " 20%|████████████████▌                                                                  | 2/10 [00:11<00:47,  5.97s/it]"
     ]
    },
    {
     "name": "stdout",
     "output_type": "stream",
     "text": [
      "Accept_prob = 0.0002843137254901961\n",
      "Accept_prob = 0.00033137254901960785\n",
      "Accept_prob = 0.0002392156862745098\n",
      "Accept_prob = 0.0003254901960784314\n",
      "Accept_prob = 0.00010196078431372549\n",
      "Accept_prob = 0.00030980392156862744\n",
      "Accept_prob = 0.00023137254901960783\n",
      "Accept_prob = 0.00031372549019607844\n",
      "Accept_prob = 0.0003372549019607843\n",
      "Accept_prob = 0.0001372549019607843\n"
     ]
    },
    {
     "name": "stderr",
     "output_type": "stream",
     "text": [
      " 30%|████████████████████████▉                                                          | 3/10 [00:18<00:42,  6.06s/it]"
     ]
    },
    {
     "name": "stdout",
     "output_type": "stream",
     "text": [
      "Accept_prob = 5.490196078431372e-05\n",
      "Accept_prob = 5.294117647058824e-05\n",
      "Accept_prob = 5.882352941176471e-05\n",
      "Accept_prob = 0.00010784313725490196\n",
      "Accept_prob = 7.450980392156863e-05\n",
      "Accept_prob = 7.647058823529411e-05\n",
      "Accept_prob = 0.00010784313725490196\n",
      "Accept_prob = 6.862745098039216e-05\n",
      "Accept_prob = 6.862745098039216e-05\n",
      "Accept_prob = 6.274509803921569e-05\n"
     ]
    },
    {
     "name": "stderr",
     "output_type": "stream",
     "text": [
      " 40%|█████████████████████████████████▏                                                 | 4/10 [00:24<00:36,  6.13s/it]"
     ]
    },
    {
     "name": "stdout",
     "output_type": "stream",
     "text": [
      "Accept_prob = 1.96078431372549e-06\n",
      "Accept_prob = 0.0\n",
      "Accept_prob = 0.0\n",
      "Accept_prob = 1.372549019607843e-05\n",
      "Accept_prob = 2.9411764705882354e-05\n",
      "Accept_prob = 4.901960784313725e-05\n",
      "Accept_prob = 3.9215686274509805e-05\n",
      "Accept_prob = 1.568627450980392e-05\n",
      "Accept_prob = 0.0\n",
      "Accept_prob = 1.372549019607843e-05\n"
     ]
    },
    {
     "name": "stderr",
     "output_type": "stream",
     "text": [
      " 50%|█████████████████████████████████████████▌                                         | 5/10 [00:30<00:30,  6.16s/it]"
     ]
    },
    {
     "name": "stdout",
     "output_type": "stream",
     "text": [
      "Accept_prob = 0.0\n",
      "Accept_prob = 1.372549019607843e-05\n",
      "Accept_prob = 0.0\n",
      "Accept_prob = 0.0\n",
      "Accept_prob = 0.0\n",
      "Accept_prob = 0.0\n",
      "Accept_prob = 4.5098039215686275e-05\n",
      "Accept_prob = 1.1764705882352942e-05\n",
      "Accept_prob = 0.0\n",
      "Accept_prob = 0.0\n"
     ]
    },
    {
     "name": "stderr",
     "output_type": "stream",
     "text": [
      " 60%|█████████████████████████████████████████████████▊                                 | 6/10 [00:36<00:24,  6.22s/it]"
     ]
    },
    {
     "name": "stdout",
     "output_type": "stream",
     "text": [
      "Accept_prob = 5.882352941176471e-06\n",
      "Accept_prob = 1.372549019607843e-05\n",
      "Accept_prob = 0.0\n",
      "Accept_prob = 0.0\n",
      "Accept_prob = 0.0\n",
      "Accept_prob = 0.0\n",
      "Accept_prob = 0.0\n",
      "Accept_prob = 3.92156862745098e-06\n",
      "Accept_prob = 1.96078431372549e-06\n",
      "Accept_prob = 9.803921568627451e-06\n"
     ]
    },
    {
     "name": "stderr",
     "output_type": "stream",
     "text": [
      " 70%|██████████████████████████████████████████████████████████                         | 7/10 [00:43<00:18,  6.24s/it]"
     ]
    },
    {
     "name": "stdout",
     "output_type": "stream",
     "text": [
      "Accept_prob = 0.0\n",
      "Accept_prob = 0.0\n",
      "Accept_prob = 0.0\n",
      "Accept_prob = 0.0\n",
      "Accept_prob = 3.92156862745098e-06\n",
      "Accept_prob = 0.0\n",
      "Accept_prob = 0.0\n",
      "Accept_prob = 0.0\n",
      "Accept_prob = 0.0\n",
      "Accept_prob = 7.84313725490196e-06\n"
     ]
    },
    {
     "name": "stderr",
     "output_type": "stream",
     "text": [
      " 80%|██████████████████████████████████████████████████████████████████▍                | 8/10 [00:49<00:12,  6.25s/it]"
     ]
    },
    {
     "name": "stdout",
     "output_type": "stream",
     "text": [
      "Accept_prob = 0.0\n",
      "Accept_prob = 0.0\n",
      "Accept_prob = 0.0\n",
      "Accept_prob = 0.0\n",
      "Accept_prob = 0.0\n",
      "Accept_prob = 0.0\n",
      "Accept_prob = 0.0\n",
      "Accept_prob = 0.0\n",
      "Accept_prob = 0.0\n",
      "Accept_prob = 0.0\n"
     ]
    },
    {
     "name": "stderr",
     "output_type": "stream",
     "text": [
      " 90%|██████████████████████████████████████████████████████████████████████████▋        | 9/10 [00:55<00:06,  6.26s/it]"
     ]
    },
    {
     "name": "stdout",
     "output_type": "stream",
     "text": [
      "Accept_prob = 0.0\n",
      "Accept_prob = 0.0\n",
      "Accept_prob = 0.0\n",
      "Accept_prob = 0.0\n",
      "Accept_prob = 0.0\n",
      "Accept_prob = 0.0\n",
      "Accept_prob = 0.0\n",
      "Accept_prob = 1.96078431372549e-06\n",
      "Accept_prob = 1.96078431372549e-06\n",
      "Accept_prob = 0.0\n"
     ]
    },
    {
     "name": "stderr",
     "output_type": "stream",
     "text": [
      "100%|██████████████████████████████████████████████████████████████████████████████████| 10/10 [01:02<00:00,  6.20s/it]\n"
     ]
    }
   ],
   "source": [
    "de = np.linspace(0, 100, 10)\n",
    "gel = []\n",
    "for i in tqdm(de):\n",
    "    gel.append(Gelman_Rubin(180, i, 1e7))"
   ]
  },
  {
   "cell_type": "code",
   "execution_count": 35,
   "id": "3210686c-4f73-4c9c-9e14-e8f83e70a0ed",
   "metadata": {},
   "outputs": [
    {
     "name": "stdout",
     "output_type": "stream",
     "text": [
      "[[4.27534232e+30 3.61207483e+30 3.30491641e+30 5.47722796e+30\n",
      "  1.26097607e+31 1.42433432e+31]\n",
      " [2.56589315e+00 1.92534359e+00 1.61673945e+00 1.00087308e+00\n",
      "  1.00157240e+00 1.00169926e+00]\n",
      " [2.41820906e+00 3.63162191e+00 2.81331520e+00 1.01569168e+00\n",
      "  1.02318007e+00 1.04130936e+00]\n",
      " [2.42370768e+00 3.26352004e+00 1.94874172e+00 1.09731924e+00\n",
      "  1.03110042e+00 1.09025109e+00]\n",
      " [2.02388797e+00 1.73451069e+00 3.06813527e+00 1.28456807e+00\n",
      "  2.11986110e+00 1.64265987e+00]\n",
      " [2.81872019e+00 2.48518120e+00 1.97414420e+00 4.34389511e+00\n",
      "  2.06900462e+00 1.49336903e+00]\n",
      " [1.74120342e+00 4.17713840e+00 1.62594190e+00 2.30060828e+00\n",
      "  2.56088656e+00 1.83550310e+00]\n",
      " [1.69659537e+00 1.41905366e+00 1.37311778e+00 7.64384298e+00\n",
      "  9.65517540e+00 1.73494454e+01]\n",
      " [9.98714675e+30 4.91591421e+30 4.01302968e+30 4.70176914e+30\n",
      "  8.20902803e+30 1.15043742e+31]\n",
      " [5.46848673e+00 1.82795825e+00 7.85184560e+00 4.03852986e+01\n",
      "  1.26474677e+02 2.18338431e+02]]\n"
     ]
    },
    {
     "data": {
      "image/png": "[encoded data removed]",
      "text/plain": [
       "<Figure size 640x480 with 1 Axes>"
      ]
     },
     "metadata": {},
     "output_type": "display_data"
    }
   ],
   "source": [
    "gel = np.asarray(gel)\n",
    "print(gel)\n",
    "plt.plot(de[:3], (gel-1)[:3])\n",
    "plt.ylim(1e-3, 1e33)\n",
    "plt.axhline(1.0, color=\"black\", linestyle=\"--\")\n",
    "plt.semilogy()\n",
    "plt.show()"
   ]
  },
  {
   "cell_type": "code",
   "execution_count": 5,
   "id": "7b71f1f6-e124-4d3d-9eee-c5e1326034df",
   "metadata": {},
   "outputs": [
    {
     "name": "stderr",
     "output_type": "stream",
     "text": [
      "  0%|                                                                                           | 0/10 [00:00<?, ?it/s]"
     ]
    },
    {
     "name": "stdout",
     "output_type": "stream",
     "text": [
      "Accept_prob = 0.999378431372549\n",
      "Accept_prob = 0.9991549019607843\n",
      "Accept_prob = 0.9993745098039216\n",
      "Accept_prob = 0.9991941176470588\n",
      "Accept_prob = 0.9991058823529412\n",
      "Accept_prob = 0.9991137254901961\n",
      "Accept_prob = 0.9994411764705883\n",
      "Accept_prob = 0.9992568627450981\n",
      "Accept_prob = 0.9992705882352941\n",
      "Accept_prob = 0.9991607843137255\n"
     ]
    },
    {
     "name": "stderr",
     "output_type": "stream",
     "text": [
      " 10%|████████▎                                                                          | 1/10 [00:08<01:15,  8.40s/it]"
     ]
    },
    {
     "name": "stdout",
     "output_type": "stream",
     "text": [
      "Accept_prob = 0.7256627450980392\n",
      "Accept_prob = 0.7261156862745098\n",
      "Accept_prob = 0.7263313725490196\n",
      "Accept_prob = 0.7242294117647059\n",
      "Accept_prob = 0.7252372549019608\n",
      "Accept_prob = 0.7260666666666666\n",
      "Accept_prob = 0.7265313725490196\n",
      "Accept_prob = 0.7257588235294118\n",
      "Accept_prob = 0.7249725490196078\n",
      "Accept_prob = 0.7232745098039216\n"
     ]
    },
    {
     "name": "stderr",
     "output_type": "stream",
     "text": [
      " 20%|████████████████▌                                                                  | 2/10 [00:14<00:55,  6.96s/it]"
     ]
    },
    {
     "name": "stdout",
     "output_type": "stream",
     "text": [
      "Accept_prob = 0.49785882352941174\n",
      "Accept_prob = 0.49672941176470586\n",
      "Accept_prob = 0.4948843137254902\n",
      "Accept_prob = 0.4982313725490196\n",
      "Accept_prob = 0.4976098039215686\n",
      "Accept_prob = 0.4973470588235294\n",
      "Accept_prob = 0.4970176470588235\n",
      "Accept_prob = 0.496878431372549\n",
      "Accept_prob = 0.4971627450980392\n",
      "Accept_prob = 0.4977392156862745\n"
     ]
    },
    {
     "name": "stderr",
     "output_type": "stream",
     "text": [
      " 30%|████████████████████████▉                                                          | 3/10 [00:20<00:45,  6.54s/it]"
     ]
    },
    {
     "name": "stdout",
     "output_type": "stream",
     "text": [
      "Accept_prob = 0.3310764705882353\n",
      "Accept_prob = 0.3318980392156863\n",
      "Accept_prob = 0.3328392156862745\n",
      "Accept_prob = 0.3318274509803922\n",
      "Accept_prob = 0.33245686274509806\n",
      "Accept_prob = 0.3312627450980392\n",
      "Accept_prob = 0.32952156862745097\n",
      "Accept_prob = 0.3321352941176471\n",
      "Accept_prob = 0.3315156862745098\n",
      "Accept_prob = 0.3311843137254902\n"
     ]
    },
    {
     "name": "stderr",
     "output_type": "stream",
     "text": [
      " 40%|█████████████████████████████████▏                                                 | 4/10 [00:26<00:38,  6.35s/it]"
     ]
    },
    {
     "name": "stdout",
     "output_type": "stream",
     "text": [
      "Accept_prob = 0.2212843137254902\n",
      "Accept_prob = 0.22109019607843136\n",
      "Accept_prob = 0.22125098039215688\n",
      "Accept_prob = 0.2208313725490196\n",
      "Accept_prob = 0.22192745098039215\n",
      "Accept_prob = 0.22101372549019607\n",
      "Accept_prob = 0.22155098039215687\n",
      "Accept_prob = 0.22150392156862744\n",
      "Accept_prob = 0.22194901960784313\n",
      "Accept_prob = 0.2223235294117647\n"
     ]
    },
    {
     "name": "stderr",
     "output_type": "stream",
     "text": [
      " 50%|█████████████████████████████████████████▌                                         | 5/10 [00:32<00:31,  6.26s/it]"
     ]
    },
    {
     "name": "stdout",
     "output_type": "stream",
     "text": [
      "Accept_prob = 0.1491764705882353\n",
      "Accept_prob = 0.14968823529411765\n",
      "Accept_prob = 0.15045490196078432\n",
      "Accept_prob = 0.1498\n",
      "Accept_prob = 0.14949803921568627\n",
      "Accept_prob = 0.14938235294117647\n",
      "Accept_prob = 0.14985294117647058\n",
      "Accept_prob = 0.14996666666666666\n",
      "Accept_prob = 0.15021372549019607\n",
      "Accept_prob = 0.14934901960784314\n"
     ]
    },
    {
     "name": "stderr",
     "output_type": "stream",
     "text": [
      " 60%|█████████████████████████████████████████████████▊                                 | 6/10 [00:38<00:24,  6.16s/it]"
     ]
    },
    {
     "name": "stdout",
     "output_type": "stream",
     "text": [
      "Accept_prob = 0.10399803921568627\n",
      "Accept_prob = 0.10308823529411765\n",
      "Accept_prob = 0.10431372549019607\n",
      "Accept_prob = 0.10336274509803922\n",
      "Accept_prob = 0.10408039215686274\n",
      "Accept_prob = 0.10369411764705883\n",
      "Accept_prob = 0.10400980392156862\n",
      "Accept_prob = 0.10470588235294118\n",
      "Accept_prob = 0.1041843137254902\n",
      "Accept_prob = 0.10402745098039216\n"
     ]
    },
    {
     "name": "stderr",
     "output_type": "stream",
     "text": [
      " 70%|██████████████████████████████████████████████████████████                         | 7/10 [00:44<00:18,  6.10s/it]"
     ]
    },
    {
     "name": "stdout",
     "output_type": "stream",
     "text": [
      "Accept_prob = 0.07458823529411765\n",
      "Accept_prob = 0.07349803921568628\n",
      "Accept_prob = 0.0740607843137255\n",
      "Accept_prob = 0.07457254901960784\n",
      "Accept_prob = 0.0742843137254902\n",
      "Accept_prob = 0.07385882352941177\n",
      "Accept_prob = 0.07468235294117648\n",
      "Accept_prob = 0.07360980392156863\n",
      "Accept_prob = 0.07383529411764705\n",
      "Accept_prob = 0.07521764705882353\n"
     ]
    },
    {
     "name": "stderr",
     "output_type": "stream",
     "text": [
      " 80%|██████████████████████████████████████████████████████████████████▍                | 8/10 [00:50<00:12,  6.07s/it]"
     ]
    },
    {
     "name": "stdout",
     "output_type": "stream",
     "text": [
      "Accept_prob = 0.05388235294117647\n",
      "Accept_prob = 0.05335294117647059\n",
      "Accept_prob = 0.0538078431372549\n",
      "Accept_prob = 0.054423529411764704\n",
      "Accept_prob = 0.05415686274509804\n",
      "Accept_prob = 0.054370588235294115\n",
      "Accept_prob = 0.053554901960784315\n",
      "Accept_prob = 0.053670588235294116\n",
      "Accept_prob = 0.05413529411764706\n",
      "Accept_prob = 0.054450980392156866\n"
     ]
    },
    {
     "name": "stderr",
     "output_type": "stream",
     "text": [
      " 90%|██████████████████████████████████████████████████████████████████████████▋        | 9/10 [00:56<00:06,  6.04s/it]"
     ]
    },
    {
     "name": "stdout",
     "output_type": "stream",
     "text": [
      "Accept_prob = 0.04053137254901961\n",
      "Accept_prob = 0.04037647058823529\n",
      "Accept_prob = 0.03972156862745098\n",
      "Accept_prob = 0.04128627450980392\n",
      "Accept_prob = 0.04064901960784314\n",
      "Accept_prob = 0.040068627450980394\n",
      "Accept_prob = 0.04055686274509804\n",
      "Accept_prob = 0.040256862745098036\n",
      "Accept_prob = 0.04054313725490196\n",
      "Accept_prob = 0.04061764705882353\n"
     ]
    },
    {
     "name": "stderr",
     "output_type": "stream",
     "text": [
      "100%|██████████████████████████████████████████████████████████████████████████████████| 10/10 [01:02<00:00,  6.25s/it]\n"
     ]
    }
   ],
   "source": [
    "de = np.linspace(1e-3, 4, 10)\n",
    "gel = []\n",
    "for i in tqdm(de):\n",
    "    gel.append(Gelman_Rubin(180, i, 1e7))"
   ]
  },
  {
   "cell_type": "code",
   "execution_count": 7,
   "id": "02eaef92-9790-4f45-b76a-c3755d75764c",
   "metadata": {},
   "outputs": [
    {
     "name": "stdout",
     "output_type": "stream",
     "text": [
      "[[17.06610423 16.28813516 11.55265391  7.17794748 14.34436566  7.79469028]\n",
      " [ 4.100254    3.06788071  3.11186034  1.00002096  1.00001359  1.00004247]\n",
      " [ 2.86506752  2.37948751  2.27171408  1.00001313  1.00001185  1.00002943]\n",
      " [ 3.65217393  3.43525939  3.63199683  1.00001901  1.00003417  1.00000753]\n",
      " [ 1.88997006  2.89957501  2.1953105   1.0000151   1.00000655  1.00001534]\n",
      " [ 2.95178104  3.35753516  3.44915487  1.00001721  1.00003184  1.00002391]\n",
      " [ 4.32710937  2.48568767  4.62924415  1.00004842  1.00002373  1.00004424]\n",
      " [ 2.59318609  5.3881259   2.21610365  1.00006026  1.00003536  1.00005068]\n",
      " [ 2.89248515  3.6365186   3.53995243  1.0000678   1.00003126  1.00018109]\n",
      " [ 4.04579466  3.40830675  3.52754464  1.00016597  1.00006853  1.00009536]]\n"
     ]
    },
    {
     "data": {
      "image/png": "[encoded data removed]",
      "text/plain": [
       "<Figure size 640x480 with 1 Axes>"
      ]
     },
     "metadata": {},
     "output_type": "display_data"
    }
   ],
   "source": [
    "gel = np.asarray(gel)\n",
    "print(gel)\n",
    "plt.plot(de, (gel-1))\n",
    "plt.axhline(1.0, color=\"black\", linestyle=\"--\")\n",
    "plt.semilogy()\n",
    "plt.show()"
   ]
  },
  {
   "cell_type": "code",
   "execution_count": 8,
   "id": "f5b32602-bf9c-4e33-a281-7a3ae187f6f2",
   "metadata": {},
   "outputs": [
    {
     "name": "stderr",
     "output_type": "stream",
     "text": [
      "  0%|                                                                                           | 0/10 [00:00<?, ?it/s]"
     ]
    },
    {
     "name": "stdout",
     "output_type": "stream",
     "text": [
      "Accept_prob = 0.9899274509803921\n",
      "Accept_prob = 0.989878431372549\n",
      "Accept_prob = 0.9897392156862745\n",
      "Accept_prob = 0.9893980392156863\n",
      "Accept_prob = 0.9895803921568628\n",
      "Accept_prob = 0.9898470588235294\n",
      "Accept_prob = 0.9895392156862746\n",
      "Accept_prob = 0.9899392156862745\n",
      "Accept_prob = 0.9899156862745098\n",
      "Accept_prob = 0.9895666666666667\n"
     ]
    },
    {
     "name": "stderr",
     "output_type": "stream",
     "text": [
      " 10%|████████▎                                                                          | 1/10 [00:07<01:03,  7.07s/it]"
     ]
    },
    {
     "name": "stdout",
     "output_type": "stream",
     "text": [
      "Accept_prob = 0.41554705882352944\n",
      "Accept_prob = 0.41371176470588233\n",
      "Accept_prob = 0.3709823529411765\n",
      "Accept_prob = 0.415621568627451\n",
      "Accept_prob = 0.41556470588235295\n",
      "Accept_prob = 0.4164392156862745\n",
      "Accept_prob = 0.4035764705882353\n",
      "Accept_prob = 0.4116529411764706\n",
      "Accept_prob = 0.3629156862745098\n",
      "Accept_prob = 0.4162666666666667\n"
     ]
    },
    {
     "name": "stderr",
     "output_type": "stream",
     "text": [
      " 20%|████████████████▌                                                                  | 2/10 [00:13<00:53,  6.67s/it]"
     ]
    },
    {
     "name": "stdout",
     "output_type": "stream",
     "text": [
      "Accept_prob = 0.22509215686274509\n",
      "Accept_prob = 0.21409607843137254\n",
      "Accept_prob = 0.21057058823529412\n",
      "Accept_prob = 0.22437450980392157\n",
      "Accept_prob = 0.2271372549019608\n",
      "Accept_prob = 0.21344901960784313\n",
      "Accept_prob = 0.17704901960784314\n",
      "Accept_prob = 0.22226666666666667\n",
      "Accept_prob = 0.21319019607843137\n",
      "Accept_prob = 0.20666666666666667\n"
     ]
    },
    {
     "name": "stderr",
     "output_type": "stream",
     "text": [
      " 30%|████████████████████████▉                                                          | 3/10 [00:19<00:46,  6.57s/it]"
     ]
    },
    {
     "name": "stdout",
     "output_type": "stream",
     "text": [
      "Accept_prob = 0.13588235294117648\n",
      "Accept_prob = 0.12363725490196079\n",
      "Accept_prob = 0.11367058823529412\n",
      "Accept_prob = 0.13703333333333334\n",
      "Accept_prob = 0.13985098039215688\n",
      "Accept_prob = 0.13267843137254903\n",
      "Accept_prob = 0.13526078431372549\n",
      "Accept_prob = 0.12627450980392158\n",
      "Accept_prob = 0.12197254901960784\n",
      "Accept_prob = 0.12076078431372549\n"
     ]
    },
    {
     "name": "stderr",
     "output_type": "stream",
     "text": [
      " 40%|█████████████████████████████████▏                                                 | 4/10 [00:26<00:39,  6.52s/it]"
     ]
    },
    {
     "name": "stdout",
     "output_type": "stream",
     "text": [
      "Accept_prob = 0.07649607843137254\n",
      "Accept_prob = 0.0808078431372549\n",
      "Accept_prob = 0.08187254901960785\n",
      "Accept_prob = 0.0833\n",
      "Accept_prob = 0.08129607843137254\n",
      "Accept_prob = 0.08567058823529412\n",
      "Accept_prob = 0.08719411764705882\n",
      "Accept_prob = 0.07928039215686275\n",
      "Accept_prob = 0.08743921568627451\n",
      "Accept_prob = 0.06086274509803922\n"
     ]
    },
    {
     "name": "stderr",
     "output_type": "stream",
     "text": [
      " 50%|█████████████████████████████████████████▌                                         | 5/10 [00:32<00:32,  6.47s/it]"
     ]
    },
    {
     "name": "stdout",
     "output_type": "stream",
     "text": [
      "Accept_prob = 0.04970196078431373\n",
      "Accept_prob = 0.057550980392156864\n",
      "Accept_prob = 0.034843137254901964\n",
      "Accept_prob = 0.05657450980392157\n",
      "Accept_prob = 0.05789607843137255\n",
      "Accept_prob = 0.05466666666666667\n",
      "Accept_prob = 0.05444901960784314\n",
      "Accept_prob = 0.053045098039215685\n",
      "Accept_prob = 0.042601960784313726\n",
      "Accept_prob = 0.051147058823529414\n"
     ]
    },
    {
     "name": "stderr",
     "output_type": "stream",
     "text": [
      " 60%|█████████████████████████████████████████████████▊                                 | 6/10 [00:39<00:26,  6.61s/it]"
     ]
    },
    {
     "name": "stdout",
     "output_type": "stream",
     "text": [
      "Accept_prob = 0.035758823529411767\n",
      "Accept_prob = 0.04255490196078431\n",
      "Accept_prob = 0.029166666666666667\n",
      "Accept_prob = 0.03572549019607843\n",
      "Accept_prob = 0.042041176470588235\n",
      "Accept_prob = 0.03988235294117647\n",
      "Accept_prob = 0.03545294117647059\n",
      "Accept_prob = 0.04177254901960784\n",
      "Accept_prob = 0.035415686274509806\n",
      "Accept_prob = 0.03000980392156863\n"
     ]
    },
    {
     "name": "stderr",
     "output_type": "stream",
     "text": [
      " 70%|██████████████████████████████████████████████████████████                         | 7/10 [00:46<00:19,  6.60s/it]"
     ]
    },
    {
     "name": "stdout",
     "output_type": "stream",
     "text": [
      "Accept_prob = 0.002496078431372549\n",
      "Accept_prob = 0.030831372549019607\n",
      "Accept_prob = 0.028923529411764706\n",
      "Accept_prob = 0.02397058823529412\n",
      "Accept_prob = 0.0290078431372549\n",
      "Accept_prob = 0.028729411764705882\n",
      "Accept_prob = 0.029988235294117645\n",
      "Accept_prob = 0.02339019607843137\n",
      "Accept_prob = 0.024525490196078432\n",
      "Accept_prob = 0.02754705882352941\n"
     ]
    },
    {
     "name": "stderr",
     "output_type": "stream",
     "text": [
      " 80%|██████████████████████████████████████████████████████████████████▍                | 8/10 [00:52<00:13,  6.57s/it]"
     ]
    },
    {
     "name": "stdout",
     "output_type": "stream",
     "text": [
      "Accept_prob = 0.019568627450980394\n",
      "Accept_prob = 0.012976470588235294\n",
      "Accept_prob = 0.010307843137254902\n",
      "Accept_prob = 0.021258823529411764\n",
      "Accept_prob = 0.0015254901960784313\n",
      "Accept_prob = 0.021892156862745097\n",
      "Accept_prob = 0.01968823529411765\n",
      "Accept_prob = 0.016358823529411766\n",
      "Accept_prob = 0.011998039215686275\n",
      "Accept_prob = 0.017854901960784313\n"
     ]
    },
    {
     "name": "stderr",
     "output_type": "stream",
     "text": [
      " 90%|██████████████████████████████████████████████████████████████████████████▋        | 9/10 [00:59<00:06,  6.54s/it]"
     ]
    },
    {
     "name": "stdout",
     "output_type": "stream",
     "text": [
      "Accept_prob = 0.01600392156862745\n",
      "Accept_prob = 0.009413725490196078\n",
      "Accept_prob = 0.01751372549019608\n",
      "Accept_prob = 0.016011764705882354\n",
      "Accept_prob = 0.009376470588235293\n",
      "Accept_prob = 0.01562941176470588\n",
      "Accept_prob = 0.013164705882352941\n",
      "Accept_prob = 0.017052941176470587\n",
      "Accept_prob = 0.015903921568627452\n",
      "Accept_prob = 0.010784313725490196\n"
     ]
    },
    {
     "name": "stderr",
     "output_type": "stream",
     "text": [
      "100%|██████████████████████████████████████████████████████████████████████████████████| 10/10 [01:05<00:00,  6.57s/it]\n"
     ]
    }
   ],
   "source": [
    "de = np.linspace(1e-3, 4, 10)\n",
    "gel = []\n",
    "for i in tqdm(de):\n",
    "    gel.append(Gelman_Rubin(50, i, 1))"
   ]
  },
  {
   "cell_type": "code",
   "execution_count": 9,
   "id": "0e5c2268-b69d-4889-aeb1-44f9ec3c3797",
   "metadata": {},
   "outputs": [
    {
     "name": "stdout",
     "output_type": "stream",
     "text": [
      "[[ 1.01241854  1.01234254  1.00690918  1.00456223  1.00494884  1.00684184]\n",
      " [ 2.12492939  2.24975582  3.45973751  1.00001424  1.00001783  1.00003451]\n",
      " [ 2.98063671  4.45701895  1.51110836  1.00002714  1.00005433  1.00005598]\n",
      " [ 2.66358977  1.84957245  1.77530045  1.0000359   1.00009014  1.00005589]\n",
      " [ 1.28583414  1.84789892  3.07210738  1.0001234   1.00013483  1.00017005]\n",
      " [ 2.58812386  2.57380143  4.14074764  1.00031771  1.00009633  1.00015394]\n",
      " [ 1.48013233  3.69988418 19.6625477   1.00024519  1.00031542  1.00020509]\n",
      " [ 2.01713793  2.32486299  5.8630502   1.00108759  1.00305076  1.00037594]\n",
      " [ 1.5781076   1.64635208  1.41774061  1.00140038  1.0006014   1.00082753]\n",
      " [ 3.26054979  1.36031496  2.18980939  1.00131169  1.00530124  1.0030636 ]]\n"
     ]
    },
    {
     "data": {
      "image/png": "[encoded data removed]",
      "text/plain": [
       "<Figure size 640x480 with 1 Axes>"
      ]
     },
     "metadata": {},
     "output_type": "display_data"
    }
   ],
   "source": [
    "gel = np.asarray(gel)\n",
    "print(gel)\n",
    "plt.plot(de, (gel-1))\n",
    "plt.axhline(1.0, color=\"black\", linestyle=\"--\")\n",
    "plt.semilogy()\n",
    "plt.show()"
   ]
  },
  {
   "cell_type": "code",
   "execution_count": 5,
   "id": "a1889a30-fde4-4b1d-be20-ea90ae10bce7",
   "metadata": {},
   "outputs": [
    {
     "data": {
      "image/png": "[encoded data removed]",
      "text/plain": [
       "<Figure size 640x480 with 1 Axes>"
      ]
     },
     "metadata": {},
     "output_type": "display_data"
    }
   ],
   "source": [
    "plt.plot(de, gel)\n",
    "plt.axhline(1.0, color=\"black\", linestyle=\"--\")\n",
    "plt.show()"
   ]
  },
  {
   "cell_type": "code",
   "execution_count": 3,
   "id": "1fdd041d-a7cb-4395-8fc8-b47cb27db374",
   "metadata": {},
   "outputs": [
    {
     "name": "stderr",
     "output_type": "stream",
     "text": [
      "  0%|                                                                                           | 0/10 [00:00<?, ?it/s]"
     ]
    },
    {
     "name": "stdout",
     "output_type": "stream",
     "text": [
      "Accept_prob = 0.9994509803921569\n",
      "Accept_prob = 0.9994333333333333\n",
      "Accept_prob = 0.999\n",
      "Accept_prob = 0.9991725490196078\n",
      "Accept_prob = 0.9994392156862745\n",
      "Accept_prob = 0.999443137254902\n",
      "Accept_prob = 0.9992980392156863\n",
      "Accept_prob = 0.9994254901960784\n",
      "Accept_prob = 0.9994686274509804\n",
      "Accept_prob = 0.9991450980392157\n"
     ]
    },
    {
     "name": "stderr",
     "output_type": "stream",
     "text": [
      " 10%|████████▎                                                                          | 1/10 [00:08<01:16,  8.47s/it]"
     ]
    },
    {
     "name": "stdout",
     "output_type": "stream",
     "text": [
      "Accept_prob = 0.6291117647058824\n",
      "Accept_prob = 0.6277941176470588\n",
      "Accept_prob = 0.6276196078431373\n",
      "Accept_prob = 0.6285666666666667\n",
      "Accept_prob = 0.6661117647058824\n",
      "Accept_prob = 0.6555058823529412\n",
      "Accept_prob = 0.6292666666666666\n",
      "Accept_prob = 0.6292215686274509\n",
      "Accept_prob = 0.6308901960784313\n",
      "Accept_prob = 0.6297960784313725\n"
     ]
    },
    {
     "name": "stderr",
     "output_type": "stream",
     "text": [
      " 20%|████████████████▌                                                                  | 2/10 [00:14<00:56,  7.01s/it]"
     ]
    },
    {
     "name": "stdout",
     "output_type": "stream",
     "text": [
      "Accept_prob = 0.4521137254901961\n",
      "Accept_prob = 0.39842352941176473\n",
      "Accept_prob = 0.3509156862745098\n",
      "Accept_prob = 0.3696470588235294\n",
      "Accept_prob = 0.49547450980392155\n",
      "Accept_prob = 0.40705882352941175\n",
      "Accept_prob = 0.4087823529411765\n",
      "Accept_prob = 0.3714392156862745\n",
      "Accept_prob = 0.4280607843137255\n",
      "Accept_prob = 0.3580039215686274\n"
     ]
    },
    {
     "name": "stderr",
     "output_type": "stream",
     "text": [
      " 30%|████████████████████████▉                                                          | 3/10 [00:20<00:45,  6.56s/it]"
     ]
    },
    {
     "name": "stdout",
     "output_type": "stream",
     "text": [
      "Accept_prob = 0.19380980392156863\n",
      "Accept_prob = 0.2318235294117647\n",
      "Accept_prob = 0.2584372549019608\n",
      "Accept_prob = 0.18358039215686275\n",
      "Accept_prob = 0.23490196078431372\n",
      "Accept_prob = 0.20019607843137255\n",
      "Accept_prob = 0.32918039215686273\n",
      "Accept_prob = 0.18249019607843137\n",
      "Accept_prob = 0.3218156862745098\n",
      "Accept_prob = 0.2941960784313726\n"
     ]
    },
    {
     "name": "stderr",
     "output_type": "stream",
     "text": [
      " 40%|█████████████████████████████████▏                                                 | 4/10 [00:26<00:38,  6.36s/it]"
     ]
    },
    {
     "name": "stdout",
     "output_type": "stream",
     "text": [
      "Accept_prob = 0.1787078431372549\n",
      "Accept_prob = 0.15704509803921568\n",
      "Accept_prob = 0.2091921568627451\n",
      "Accept_prob = 0.09226470588235294\n",
      "Accept_prob = 0.19469803921568626\n",
      "Accept_prob = 0.13405490196078432\n",
      "Accept_prob = 0.09264117647058824\n",
      "Accept_prob = 0.15629019607843136\n",
      "Accept_prob = 0.13650980392156864\n",
      "Accept_prob = 0.20494313725490196\n"
     ]
    },
    {
     "name": "stderr",
     "output_type": "stream",
     "text": [
      " 50%|█████████████████████████████████████████▌                                         | 5/10 [00:32<00:31,  6.22s/it]"
     ]
    },
    {
     "name": "stdout",
     "output_type": "stream",
     "text": [
      "Accept_prob = 0.13374901960784313\n",
      "Accept_prob = 0.08954117647058824\n",
      "Accept_prob = 0.11716666666666667\n",
      "Accept_prob = 0.05938235294117647\n",
      "Accept_prob = 0.08646274509803921\n",
      "Accept_prob = 0.12586470588235293\n",
      "Accept_prob = 0.11160196078431373\n",
      "Accept_prob = 0.0516843137254902\n",
      "Accept_prob = 0.11398627450980392\n",
      "Accept_prob = 0.14156470588235295\n"
     ]
    },
    {
     "name": "stderr",
     "output_type": "stream",
     "text": [
      " 60%|█████████████████████████████████████████████████▊                                 | 6/10 [00:38<00:24,  6.16s/it]"
     ]
    },
    {
     "name": "stdout",
     "output_type": "stream",
     "text": [
      "Accept_prob = 0.10336666666666666\n",
      "Accept_prob = 0.05845490196078432\n",
      "Accept_prob = 0.1017843137254902\n",
      "Accept_prob = 0.02519607843137255\n",
      "Accept_prob = 0.10384705882352942\n",
      "Accept_prob = 0.09962745098039216\n",
      "Accept_prob = 0.02635294117647059\n",
      "Accept_prob = 0.09461176470588235\n",
      "Accept_prob = 0.052576470588235294\n",
      "Accept_prob = 0.06988235294117646\n"
     ]
    },
    {
     "name": "stderr",
     "output_type": "stream",
     "text": [
      " 70%|██████████████████████████████████████████████████████████                         | 7/10 [00:44<00:18,  6.13s/it]"
     ]
    },
    {
     "name": "stdout",
     "output_type": "stream",
     "text": [
      "Accept_prob = 0.054141176470588234\n",
      "Accept_prob = 0.052480392156862746\n",
      "Accept_prob = 0.01362156862745098\n",
      "Accept_prob = 0.058113725490196076\n",
      "Accept_prob = 0.014225490196078432\n",
      "Accept_prob = 0.07358627450980393\n",
      "Accept_prob = 0.06377450980392158\n",
      "Accept_prob = 0.014880392156862744\n",
      "Accept_prob = 0.05691960784313725\n",
      "Accept_prob = 0.07338235294117647\n"
     ]
    },
    {
     "name": "stderr",
     "output_type": "stream",
     "text": [
      " 80%|██████████████████████████████████████████████████████████████████▍                | 8/10 [00:50<00:12,  6.08s/it]"
     ]
    },
    {
     "name": "stdout",
     "output_type": "stream",
     "text": [
      "Accept_prob = 0.00886078431372549\n",
      "Accept_prob = 0.04729411764705883\n",
      "Accept_prob = 0.05073529411764706\n",
      "Accept_prob = 0.008337254901960784\n",
      "Accept_prob = 0.02702549019607843\n",
      "Accept_prob = 0.008131372549019607\n",
      "Accept_prob = 0.043707843137254905\n",
      "Accept_prob = 0.037805882352941175\n",
      "Accept_prob = 0.04007843137254902\n",
      "Accept_prob = 0.01777450980392157\n"
     ]
    },
    {
     "name": "stderr",
     "output_type": "stream",
     "text": [
      " 90%|██████████████████████████████████████████████████████████████████████████▋        | 9/10 [00:56<00:06,  6.07s/it]"
     ]
    },
    {
     "name": "stdout",
     "output_type": "stream",
     "text": [
      "Accept_prob = 0.016362745098039217\n",
      "Accept_prob = 0.029715686274509805\n",
      "Accept_prob = 0.00477843137254902\n",
      "Accept_prob = 0.019241176470588234\n",
      "Accept_prob = 0.007372549019607843\n",
      "Accept_prob = 0.004701960784313726\n",
      "Accept_prob = 0.009641176470588235\n",
      "Accept_prob = 0.03526078431372549\n",
      "Accept_prob = 0.031754901960784315\n",
      "Accept_prob = 0.032486274509803924\n"
     ]
    },
    {
     "name": "stderr",
     "output_type": "stream",
     "text": [
      "100%|██████████████████████████████████████████████████████████████████████████████████| 10/10 [01:02<00:00,  6.27s/it]\n"
     ]
    }
   ],
   "source": [
    "de = np.linspace(1e-3, 4, 10)\n",
    "gel = []\n",
    "for i in tqdm(de):\n",
    "    gel.append(Gelman_Rubin(50, i, 1e3))"
   ]
  },
  {
   "cell_type": "code",
   "execution_count": 12,
   "id": "f16d0181-2c21-42f4-acf8-efbc893391e7",
   "metadata": {},
   "outputs": [
    {
     "data": {
      "image/png": "[encoded data removed]",
      "text/plain": [
       "<Figure size 640x480 with 1 Axes>"
      ]
     },
     "metadata": {},
     "output_type": "display_data"
    },
    {
     "name": "stdout",
     "output_type": "stream",
     "text": [
      "[[6.26789153e+00 1.05673297e+01 4.28259512e+00 7.13377895e+00\n",
      "  5.21276773e+00 4.87556509e+00]\n",
      " [1.09124065e-01 2.13979977e-01 2.91988247e-01 7.51071020e-05\n",
      "  3.22284361e-05 3.89664038e-05]\n",
      " [2.63605391e-01 3.02797989e-01 6.85662111e-01 4.58917483e-05\n",
      "  4.35997922e-05 5.02709936e-05]\n",
      " [4.05750274e-01 3.65715575e+00 7.46242070e-01 3.56890313e-05\n",
      "  1.41765533e-05 2.14741254e-05]\n",
      " [4.55120827e-01 5.84025303e-01 9.42914105e-01 2.09693095e-05\n",
      "  4.03443907e-05 1.28182440e-05]\n",
      " [1.15783801e+00 1.07305534e+00 5.85365315e-01 3.52890116e-05\n",
      "  2.33323418e-05 1.05331958e-04]\n",
      " [9.80922245e-01 3.00144411e+00 2.05692937e+00 1.75184452e-05\n",
      "  9.79572104e-05 2.04318572e-04]\n",
      " [1.48426991e+00 7.13790234e-01 5.60494367e-01 1.97008731e-04\n",
      "  5.61884169e-04 7.92861288e-05]\n",
      " [1.83968861e+00 1.31744720e+00 9.89976674e-01 2.96865084e-04\n",
      "  1.90664674e-04 6.11814416e-04]\n",
      " [1.35660525e+00 5.28021551e-01 8.69509788e-01 1.00701263e-03\n",
      "  6.71038219e-04 6.23979794e-04]]\n",
      "1.2818244048640182e-05\n"
     ]
    }
   ],
   "source": [
    "gel = np.asarray(gel)\n",
    "plt.plot(de, (gel-1))\n",
    "plt.show()\n",
    "print(gel-1)\n",
    "find_min(gel)"
   ]
  },
  {
   "cell_type": "code",
   "execution_count": 13,
   "id": "771ebbc3-ffbb-4d69-8fc9-5ff4f675e94b",
   "metadata": {},
   "outputs": [
    {
     "data": {
      "image/png": "[encoded data removed]",
      "text/plain": [
       "<Figure size 640x480 with 1 Axes>"
      ]
     },
     "metadata": {},
     "output_type": "display_data"
    }
   ],
   "source": [
    "plt.plot(de, gel-1)\n",
    "plt.semilogy()\n",
    "plt.show()"
   ]
  }
 ],
 "metadata": {
  "kernelspec": {
   "display_name": "Python 3 (ipykernel)",
   "language": "python",
   "name": "python3"
  },
  "language_info": {
   "codemirror_mode": {
    "name": "ipython",
    "version": 3
   },
   "file_extension": ".py",
   "mimetype": "text/x-python",
   "name": "python",
   "nbconvert_exporter": "python",
   "pygments_lexer": "ipython3",
   "version": "3.11.3"
  }
 },
 "nbformat": 4,
 "nbformat_minor": 5
}
