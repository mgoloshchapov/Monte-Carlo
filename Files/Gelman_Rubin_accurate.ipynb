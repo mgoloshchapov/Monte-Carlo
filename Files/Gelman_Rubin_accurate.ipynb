{
 "cells": [
  {
   "cell_type": "markdown",
   "id": "6d513305-2a87-4fef-b2d3-676536bd1c16",
   "metadata": {},
   "source": [
    "# Gelman-Rubin statistics for release-recapture\n",
    "### R from variance for different proposal disrtibutions (Student's t disribution with various df-parameter)"
   ]
  },
  {
   "cell_type": "markdown",
   "id": "32b741a0-a3da-4335-b6db-3eea2beeb9fc",
   "metadata": {},
   "source": [
    "### $T=50$ mkK; $U=700$ mkK"
   ]
  },
  {
   "cell_type": "code",
   "execution_count": 5,
   "id": "1b17ac1c-ed0d-4d50-8c06-ed3239d7c9f7",
   "metadata": {
    "execution": {
     "iopub.execute_input": "2024-07-31T08:46:13.551767Z",
     "iopub.status.busy": "2024-07-31T08:46:13.550767Z",
     "iopub.status.idle": "2024-07-31T08:46:13.574871Z",
     "shell.execute_reply": "2024-07-31T08:46:13.573867Z",
     "shell.execute_reply.started": "2024-07-31T08:46:13.551767Z"
    }
   },
   "outputs": [],
   "source": [
    "from ZAPS2 import *\n",
    "from tqdm import tqdm"
   ]
  },
  {
   "cell_type": "code",
   "execution_count": 7,
   "id": "6363bf69-6c16-446e-adbc-2d62d2c591cf",
   "metadata": {
    "execution": {
     "iopub.execute_input": "2024-07-31T08:46:49.992495Z",
     "iopub.status.busy": "2024-07-31T08:46:49.991505Z",
     "iopub.status.idle": "2024-07-31T08:48:17.837538Z",
     "shell.execute_reply": "2024-07-31T08:48:17.837538Z",
     "shell.execute_reply.started": "2024-07-31T08:46:49.992495Z"
    },
    "scrolled": true
   },
   "outputs": [
    {
     "name": "stderr",
     "output_type": "stream",
     "text": [
      "  0%|                                                                                           | 0/10 [00:00<?, ?it/s]"
     ]
    },
    {
     "name": "stdout",
     "output_type": "stream",
     "text": [
      "Accept_prob = 0.989856862745098\n",
      "Accept_prob = 0.9894392156862745\n",
      "Accept_prob = 0.9897156862745098\n",
      "Accept_prob = 0.9895647058823529\n",
      "Accept_prob = 0.9898039215686274\n",
      "Accept_prob = 0.989486274509804\n",
      "Accept_prob = 0.9900490196078431\n",
      "Accept_prob = 0.9899372549019608\n",
      "Accept_prob = 0.9898588235294118\n",
      "Accept_prob = 0.9897294117647059\n"
     ]
    },
    {
     "name": "stderr",
     "output_type": "stream",
     "text": [
      " 10%|████████▎                                                                          | 1/10 [00:14<02:10, 14.46s/it]"
     ]
    },
    {
     "name": "stdout",
     "output_type": "stream",
     "text": [
      "Accept_prob = 0.1577235294117647\n",
      "Accept_prob = 0.16711372549019607\n",
      "Accept_prob = 0.17642745098039217\n",
      "Accept_prob = 0.17414901960784313\n",
      "Accept_prob = 0.15766470588235293\n",
      "Accept_prob = 0.1781235294117647\n",
      "Accept_prob = 0.16126666666666667\n",
      "Accept_prob = 0.15151764705882353\n",
      "Accept_prob = 0.16498039215686275\n",
      "Accept_prob = 0.17357450980392156\n"
     ]
    },
    {
     "name": "stderr",
     "output_type": "stream",
     "text": [
      " 20%|████████████████▌                                                                  | 2/10 [00:22<01:25, 10.69s/it]"
     ]
    },
    {
     "name": "stdout",
     "output_type": "stream",
     "text": [
      "Accept_prob = 0.0458\n",
      "Accept_prob = 0.05765882352941176\n",
      "Accept_prob = 0.060201960784313724\n",
      "Accept_prob = 0.05400980392156863\n",
      "Accept_prob = 0.05518627450980392\n",
      "Accept_prob = 0.04997254901960784\n",
      "Accept_prob = 0.05696274509803922\n",
      "Accept_prob = 0.057947058823529414\n",
      "Accept_prob = 0.049976470588235296\n",
      "Accept_prob = 0.05653921568627451\n"
     ]
    },
    {
     "name": "stderr",
     "output_type": "stream",
     "text": [
      " 30%|████████████████████████▉                                                          | 3/10 [00:30<01:07,  9.59s/it]"
     ]
    },
    {
     "name": "stdout",
     "output_type": "stream",
     "text": [
      "Accept_prob = 0.022080392156862746\n",
      "Accept_prob = 0.0164\n",
      "Accept_prob = 0.025468627450980393\n",
      "Accept_prob = 0.0239\n",
      "Accept_prob = 0.014225490196078432\n",
      "Accept_prob = 0.023001960784313727\n",
      "Accept_prob = 0.023088235294117646\n",
      "Accept_prob = 0.02299607843137255\n",
      "Accept_prob = 0.015001960784313725\n",
      "Accept_prob = 0.012488235294117647\n"
     ]
    },
    {
     "name": "stderr",
     "output_type": "stream",
     "text": [
      " 40%|█████████████████████████████████▏                                                 | 4/10 [00:38<00:53,  9.00s/it]"
     ]
    },
    {
     "name": "stdout",
     "output_type": "stream",
     "text": [
      "Accept_prob = 0.009905882352941176\n",
      "Accept_prob = 0.0135\n",
      "Accept_prob = 0.012658823529411764\n",
      "Accept_prob = 0.0005588235294117647\n",
      "Accept_prob = 0.0068725490196078435\n",
      "Accept_prob = 0.004329411764705882\n",
      "Accept_prob = 0.006609803921568628\n",
      "Accept_prob = 0.009407843137254903\n",
      "Accept_prob = 0.0013529411764705882\n",
      "Accept_prob = 0.003884313725490196\n"
     ]
    },
    {
     "name": "stderr",
     "output_type": "stream",
     "text": [
      " 50%|█████████████████████████████████████████▌                                         | 5/10 [00:46<00:43,  8.66s/it]"
     ]
    },
    {
     "name": "stdout",
     "output_type": "stream",
     "text": [
      "Accept_prob = 5.0980392156862745e-05\n",
      "Accept_prob = 0.004996078431372549\n",
      "Accept_prob = 0.00012549019607843137\n",
      "Accept_prob = 0.00018823529411764707\n",
      "Accept_prob = 0.006878431372549019\n",
      "Accept_prob = 0.00011176470588235294\n",
      "Accept_prob = 0.00019215686274509804\n",
      "Accept_prob = 0.0032784313725490195\n",
      "Accept_prob = 9.607843137254902e-05\n",
      "Accept_prob = 0.003964705882352941\n"
     ]
    },
    {
     "name": "stderr",
     "output_type": "stream",
     "text": [
      " 60%|█████████████████████████████████████████████████▊                                 | 6/10 [00:54<00:33,  8.43s/it]"
     ]
    },
    {
     "name": "stdout",
     "output_type": "stream",
     "text": [
      "Accept_prob = 0.0030176470588235294\n",
      "Accept_prob = 6.862745098039216e-05\n",
      "Accept_prob = 3.725490196078431e-05\n",
      "Accept_prob = 2.745098039215686e-05\n",
      "Accept_prob = 0.001523529411764706\n",
      "Accept_prob = 0.00010588235294117647\n",
      "Accept_prob = 6.274509803921569e-05\n",
      "Accept_prob = 0.0041137254901960785\n",
      "Accept_prob = 6.470588235294117e-05\n",
      "Accept_prob = 5.6862745098039215e-05\n"
     ]
    },
    {
     "name": "stderr",
     "output_type": "stream",
     "text": [
      " 70%|██████████████████████████████████████████████████████████                         | 7/10 [01:03<00:24,  8.32s/it]"
     ]
    },
    {
     "name": "stdout",
     "output_type": "stream",
     "text": [
      "Accept_prob = 1.764705882352941e-05\n",
      "Accept_prob = 0.001919607843137255\n",
      "Accept_prob = 0.0\n",
      "Accept_prob = 1.764705882352941e-05\n",
      "Accept_prob = 0.002980392156862745\n",
      "Accept_prob = 0.0018941176470588235\n",
      "Accept_prob = 0.0004745098039215686\n",
      "Accept_prob = 2.5490196078431373e-05\n",
      "Accept_prob = 2.9411764705882354e-05\n",
      "Accept_prob = 1.96078431372549e-06\n"
     ]
    },
    {
     "name": "stderr",
     "output_type": "stream",
     "text": [
      " 80%|██████████████████████████████████████████████████████████████████▍                | 8/10 [01:11<00:16,  8.32s/it]"
     ]
    },
    {
     "name": "stdout",
     "output_type": "stream",
     "text": [
      "Accept_prob = 0.0\n",
      "Accept_prob = 2.745098039215686e-05\n",
      "Accept_prob = 9.803921568627451e-06\n",
      "Accept_prob = 1.764705882352941e-05\n",
      "Accept_prob = 2.3529411764705884e-05\n",
      "Accept_prob = 3.92156862745098e-06\n",
      "Accept_prob = 0.0\n",
      "Accept_prob = 1.1764705882352942e-05\n",
      "Accept_prob = 0.0\n",
      "Accept_prob = 1.372549019607843e-05\n"
     ]
    },
    {
     "name": "stderr",
     "output_type": "stream",
     "text": [
      " 90%|██████████████████████████████████████████████████████████████████████████▋        | 9/10 [01:19<00:08,  8.28s/it]"
     ]
    },
    {
     "name": "stdout",
     "output_type": "stream",
     "text": [
      "Accept_prob = 0.0\n",
      "Accept_prob = 1.96078431372549e-06\n",
      "Accept_prob = 1.96078431372549e-06\n",
      "Accept_prob = 0.0\n",
      "Accept_prob = 0.0\n",
      "Accept_prob = 7.84313725490196e-06\n",
      "Accept_prob = 5.882352941176471e-06\n",
      "Accept_prob = 0.0006313725490196078\n",
      "Accept_prob = 0.0\n",
      "Accept_prob = 1.96078431372549e-06\n"
     ]
    },
    {
     "name": "stderr",
     "output_type": "stream",
     "text": [
      "100%|██████████████████████████████████████████████████████████████████████████████████| 10/10 [01:27<00:00,  8.78s/it]\n"
     ]
    }
   ],
   "source": [
    "steps = np.linspace(1e-3, 1e1, 10)\n",
    "T = 50\n",
    "df = 1 # Cauchy distribution\n",
    "gel = np.asarray([Gelman_Rubin(T, i, df)for i in tqdm(steps)])"
   ]
  },
  {
   "cell_type": "code",
   "execution_count": 9,
   "id": "d7df6132-1f38-4c7d-883a-e991fe0e250b",
   "metadata": {
    "execution": {
     "iopub.execute_input": "2024-07-31T08:49:52.211595Z",
     "iopub.status.busy": "2024-07-31T08:49:52.210596Z",
     "iopub.status.idle": "2024-07-31T08:49:52.781034Z",
     "shell.execute_reply": "2024-07-31T08:49:52.780029Z",
     "shell.execute_reply.started": "2024-07-31T08:49:52.211595Z"
    }
   },
   "outputs": [
    {
     "data": {
      "image/png": "[encoded data removed]",
      "text/plain": [
       "<Figure size 640x480 with 1 Axes>"
      ]
     },
     "metadata": {},
     "output_type": "display_data"
    }
   ],
   "source": [
    "plt.plot(steps, gel-1)\n",
    "plt.semilogy()\n",
    "plt.show()"
   ]
  },
  {
   "cell_type": "code",
   "execution_count": 10,
   "id": "ce6edc9d-6d84-4802-8520-4a9810093a58",
   "metadata": {
    "execution": {
     "iopub.execute_input": "2024-07-31T08:51:55.084334Z",
     "iopub.status.busy": "2024-07-31T08:51:55.084334Z",
     "iopub.status.idle": "2024-07-31T08:53:20.193820Z",
     "shell.execute_reply": "2024-07-31T08:53:20.193820Z",
     "shell.execute_reply.started": "2024-07-31T08:51:55.084334Z"
    }
   },
   "outputs": [
    {
     "name": "stderr",
     "output_type": "stream",
     "text": [
      "  0%|                                                                                           | 0/10 [00:00<?, ?it/s]"
     ]
    },
    {
     "name": "stdout",
     "output_type": "stream",
     "text": [
      "Accept_prob = 1.0\n",
      "Accept_prob = 1.0\n",
      "Accept_prob = 1.0\n",
      "Accept_prob = 1.0\n",
      "Accept_prob = 0.9999980392156863\n",
      "Accept_prob = 1.0\n",
      "Accept_prob = 1.0\n",
      "Accept_prob = 1.0\n",
      "Accept_prob = 1.0\n",
      "Accept_prob = 1.0\n"
     ]
    },
    {
     "name": "stderr",
     "output_type": "stream",
     "text": [
      " 10%|████████▎                                                                          | 1/10 [00:10<01:38, 10.91s/it]"
     ]
    },
    {
     "name": "stdout",
     "output_type": "stream",
     "text": [
      "Accept_prob = 0.9982901960784314\n",
      "Accept_prob = 0.998621568627451\n",
      "Accept_prob = 0.9984627450980392\n",
      "Accept_prob = 0.9984490196078432\n",
      "Accept_prob = 0.9984745098039216\n",
      "Accept_prob = 0.9985137254901961\n",
      "Accept_prob = 0.9984372549019608\n",
      "Accept_prob = 0.9985019607843137\n",
      "Accept_prob = 0.9985529411764706\n",
      "Accept_prob = 0.998543137254902\n"
     ]
    },
    {
     "name": "stderr",
     "output_type": "stream",
     "text": [
      " 20%|████████████████▌                                                                  | 2/10 [00:19<01:14,  9.27s/it]"
     ]
    },
    {
     "name": "stdout",
     "output_type": "stream",
     "text": [
      "Accept_prob = 0.9972254901960784\n",
      "Accept_prob = 0.9971372549019608\n",
      "Accept_prob = 0.9972823529411765\n",
      "Accept_prob = 0.9972647058823529\n",
      "Accept_prob = 0.9973745098039216\n",
      "Accept_prob = 0.9973019607843138\n",
      "Accept_prob = 0.9972764705882353\n",
      "Accept_prob = 0.9972\n",
      "Accept_prob = 0.9973450980392157\n",
      "Accept_prob = 0.9970568627450981\n"
     ]
    },
    {
     "name": "stderr",
     "output_type": "stream",
     "text": [
      " 30%|████████████████████████▉                                                          | 3/10 [00:27<01:01,  8.74s/it]"
     ]
    },
    {
     "name": "stdout",
     "output_type": "stream",
     "text": [
      "Accept_prob = 0.9962313725490196\n",
      "Accept_prob = 0.996135294117647\n",
      "Accept_prob = 0.9959921568627451\n",
      "Accept_prob = 0.9957313725490196\n",
      "Accept_prob = 0.9959862745098039\n",
      "Accept_prob = 0.9961156862745097\n",
      "Accept_prob = 0.996064705882353\n",
      "Accept_prob = 0.9960235294117648\n",
      "Accept_prob = 0.996035294117647\n",
      "Accept_prob = 0.9962882352941177\n"
     ]
    },
    {
     "name": "stderr",
     "output_type": "stream",
     "text": [
      " 40%|█████████████████████████████████▏                                                 | 4/10 [00:35<00:50,  8.46s/it]"
     ]
    },
    {
     "name": "stdout",
     "output_type": "stream",
     "text": [
      "Accept_prob = 0.995035294117647\n",
      "Accept_prob = 0.994478431372549\n",
      "Accept_prob = 0.9947078431372549\n",
      "Accept_prob = 0.9949235294117647\n",
      "Accept_prob = 0.9948196078431373\n",
      "Accept_prob = 0.994786274509804\n",
      "Accept_prob = 0.9947764705882353\n",
      "Accept_prob = 0.9948549019607843\n",
      "Accept_prob = 0.9947039215686274\n",
      "Accept_prob = 0.9950764705882353\n"
     ]
    },
    {
     "name": "stderr",
     "output_type": "stream",
     "text": [
      " 50%|█████████████████████████████████████████▌                                         | 5/10 [00:42<00:41,  8.22s/it]"
     ]
    },
    {
     "name": "stdout",
     "output_type": "stream",
     "text": [
      "Accept_prob = 0.9939529411764706\n",
      "Accept_prob = 0.9938823529411764\n",
      "Accept_prob = 0.994021568627451\n",
      "Accept_prob = 0.9940803921568627\n",
      "Accept_prob = 0.9938078431372549\n",
      "Accept_prob = 0.993621568627451\n",
      "Accept_prob = 0.993764705882353\n",
      "Accept_prob = 0.9935823529411765\n",
      "Accept_prob = 0.9941\n",
      "Accept_prob = 0.9939686274509804\n"
     ]
    },
    {
     "name": "stderr",
     "output_type": "stream",
     "text": [
      " 60%|█████████████████████████████████████████████████▊                                 | 6/10 [00:50<00:32,  8.14s/it]"
     ]
    },
    {
     "name": "stdout",
     "output_type": "stream",
     "text": [
      "Accept_prob = 0.9927117647058824\n",
      "Accept_prob = 0.9926843137254902\n",
      "Accept_prob = 0.9927372549019607\n",
      "Accept_prob = 0.9926333333333334\n",
      "Accept_prob = 0.9926588235294118\n",
      "Accept_prob = 0.9927235294117647\n",
      "Accept_prob = 0.9954607843137255\n",
      "Accept_prob = 0.9929490196078431\n",
      "Accept_prob = 0.9928588235294118\n",
      "Accept_prob = 0.9925745098039216\n"
     ]
    },
    {
     "name": "stderr",
     "output_type": "stream",
     "text": [
      " 70%|██████████████████████████████████████████████████████████                         | 7/10 [00:59<00:24,  8.16s/it]"
     ]
    },
    {
     "name": "stdout",
     "output_type": "stream",
     "text": [
      "Accept_prob = 0.9916666666666667\n",
      "Accept_prob = 0.9916705882352941\n",
      "Accept_prob = 0.9918705882352942\n",
      "Accept_prob = 0.9916529411764706\n",
      "Accept_prob = 0.9915647058823529\n",
      "Accept_prob = 0.9916784313725491\n",
      "Accept_prob = 0.9916470588235294\n",
      "Accept_prob = 0.9917764705882353\n",
      "Accept_prob = 0.991964705882353\n",
      "Accept_prob = 0.9916117647058823\n"
     ]
    },
    {
     "name": "stderr",
     "output_type": "stream",
     "text": [
      " 80%|██████████████████████████████████████████████████████████████████▍                | 8/10 [01:08<00:17,  8.67s/it]"
     ]
    },
    {
     "name": "stdout",
     "output_type": "stream",
     "text": [
      "Accept_prob = 0.9907980392156863\n",
      "Accept_prob = 0.9939450980392157\n",
      "Accept_prob = 0.9908686274509804\n",
      "Accept_prob = 0.9906039215686274\n",
      "Accept_prob = 0.9906823529411765\n",
      "Accept_prob = 0.990835294117647\n",
      "Accept_prob = 0.9904705882352941\n",
      "Accept_prob = 0.9906666666666667\n",
      "Accept_prob = 0.9904607843137255\n",
      "Accept_prob = 0.9909627450980392\n"
     ]
    },
    {
     "name": "stderr",
     "output_type": "stream",
     "text": [
      " 90%|██████████████████████████████████████████████████████████████████████████▋        | 9/10 [01:17<00:08,  8.55s/it]"
     ]
    },
    {
     "name": "stdout",
     "output_type": "stream",
     "text": [
      "Accept_prob = 0.9896254901960785\n",
      "Accept_prob = 0.9897019607843137\n",
      "Accept_prob = 0.9900823529411765\n",
      "Accept_prob = 0.9902058823529412\n",
      "Accept_prob = 0.9893686274509804\n",
      "Accept_prob = 0.9895450980392156\n",
      "Accept_prob = 0.9897411764705882\n",
      "Accept_prob = 0.9898254901960785\n",
      "Accept_prob = 0.9896960784313725\n",
      "Accept_prob = 0.9899745098039215\n"
     ]
    },
    {
     "name": "stderr",
     "output_type": "stream",
     "text": [
      "100%|██████████████████████████████████████████████████████████████████████████████████| 10/10 [01:25<00:00,  8.51s/it]\n"
     ]
    }
   ],
   "source": [
    "steps = np.linspace(1e-8, 1e-3, 10)\n",
    "gel = np.asarray([Gelman_Rubin(T, i, df)for i in tqdm(steps)])"
   ]
  },
  {
   "cell_type": "code",
   "execution_count": null,
   "id": "117c53e2-3087-4440-b355-73a81451d567",
   "metadata": {},
   "outputs": [],
   "source": []
  }
 ],
 "metadata": {
  "kernelspec": {
   "display_name": "Python 3 (ipykernel)",
   "language": "python",
   "name": "python3"
  },
  "language_info": {
   "codemirror_mode": {
    "name": "ipython",
    "version": 3
   },
   "file_extension": ".py",
   "mimetype": "text/x-python",
   "name": "python",
   "nbconvert_exporter": "python",
   "pygments_lexer": "ipython3",
   "version": "3.11.3"
  }
 },
 "nbformat": 4,
 "nbformat_minor": 5
}
